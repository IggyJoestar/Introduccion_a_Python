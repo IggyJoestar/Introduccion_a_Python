{
  "nbformat": 4,
  "nbformat_minor": 0,
  "metadata": {
    "colab": {
      "provenance": []
    },
    "kernelspec": {
      "name": "python3",
      "display_name": "Python 3"
    },
    "language_info": {
      "name": "python"
    }
  },
  "cells": [
    {
      "cell_type": "markdown",
      "source": [
        "# FUNCIONES EN LISTAS"
      ],
      "metadata": {
        "id": "EFXuZ7gVNdDW"
      }
    },
    {
      "cell_type": "markdown",
      "source": [
        "## LA FUNCIÓN: len()\n",
        "La función len () devuelve el número de elementos en una lista especificada."
      ],
      "metadata": {
        "id": "dodg8JmkOdQZ"
      }
    },
    {
      "cell_type": "code",
      "execution_count": null,
      "metadata": {
        "colab": {
          "base_uri": "https://localhost:8080/"
        },
        "id": "FTw58p9LNZdf",
        "outputId": "ea374c04-dc7d-4038-c012-af1c5cc685a2"
      },
      "outputs": [
        {
          "output_type": "execute_result",
          "data": {
            "text/plain": [
              "7"
            ]
          },
          "metadata": {},
          "execution_count": 3
        }
      ],
      "source": [
        "lista=[2,78,14,54, \"hola\", \"k\", 452]\n",
        "len(lista)"
      ]
    },
    {
      "cell_type": "code",
      "source": [
        "notas=[14,10,8,15,16,17]\n",
        "total_de_notas=len(notas)\n",
        "print(total_de_notas)"
      ],
      "metadata": {
        "colab": {
          "base_uri": "https://localhost:8080/"
        },
        "id": "lV6BA3u1Uop6",
        "outputId": "4fb3b8ad-0b99-48b0-9b0c-dd854b768d02"
      },
      "execution_count": null,
      "outputs": [
        {
          "output_type": "stream",
          "name": "stdout",
          "text": [
            "6\n"
          ]
        }
      ]
    },
    {
      "cell_type": "code",
      "source": [
        "encuestas=(\"ENAHO\", \"ENAPRES\", \"INEI\")\n",
        "n_encuestas=len(encuestas)\n",
        "print(n_encuestas)"
      ],
      "metadata": {
        "colab": {
          "base_uri": "https://localhost:8080/"
        },
        "id": "0ZrerD_QYt4S",
        "outputId": "84a8944d-5eb7-418b-c878-7724ec445886"
      },
      "execution_count": null,
      "outputs": [
        {
          "output_type": "stream",
          "name": "stdout",
          "text": [
            "3\n"
          ]
        }
      ]
    },
    {
      "cell_type": "code",
      "source": [
        "list(encuestas)"
      ],
      "metadata": {
        "colab": {
          "base_uri": "https://localhost:8080/"
        },
        "id": "nD_uAI8zZML4",
        "outputId": "0222af59-3e37-41b5-bc84-898b2003f8c0"
      },
      "execution_count": null,
      "outputs": [
        {
          "output_type": "execute_result",
          "data": {
            "text/plain": [
              "['ENAHO', 'ENAPRES', 'INEI']"
            ]
          },
          "metadata": {},
          "execution_count": 28
        }
      ]
    },
    {
      "cell_type": "markdown",
      "source": [
        "##EL METODO:  .sort()\n",
        "Ordena elementos"
      ],
      "metadata": {
        "id": "4itjsMy4QiuZ"
      }
    },
    {
      "cell_type": "code",
      "source": [
        "print(\"hola\") #la función tiene la forma:     ejecutar() #el elemento va dentro"
      ],
      "metadata": {
        "colab": {
          "base_uri": "https://localhost:8080/"
        },
        "id": "qID1Nxk5SO0p",
        "outputId": "0e1362cf-5d6f-47dc-c2a0-e1aead8f9783"
      },
      "execution_count": null,
      "outputs": [
        {
          "output_type": "stream",
          "name": "stdout",
          "text": [
            "hola\n"
          ]
        }
      ]
    },
    {
      "cell_type": "code",
      "source": [
        "lista=[\"j\",\"a\",\"b\",\"g\"]\n",
        "#  .sort()  va después del elemento\n",
        "valor_sort=lista.sort()\n",
        "print(valor_sort) #OJO= un método no tiene valor solo TRANSFORMA al elemento"
      ],
      "metadata": {
        "colab": {
          "base_uri": "https://localhost:8080/"
        },
        "id": "RXYnk5C9SfQV",
        "outputId": "adb846c4-a8b8-453c-859f-5dcd27b20584"
      },
      "execution_count": null,
      "outputs": [
        {
          "output_type": "stream",
          "name": "stdout",
          "text": [
            "None\n"
          ]
        }
      ]
    },
    {
      "cell_type": "code",
      "source": [
        "prices = [589.36, 237.81, 230.87, 463.98, 453.42]\n",
        "prices.sort() #transformar al elemento\n",
        "print(prices)"
      ],
      "metadata": {
        "colab": {
          "base_uri": "https://localhost:8080/"
        },
        "id": "JwGOKRD-W7U8",
        "outputId": "5fc97c54-dc46-416c-a9be-8c0feba2a696"
      },
      "execution_count": null,
      "outputs": [
        {
          "output_type": "stream",
          "name": "stdout",
          "text": [
            "[230.87, 237.81, 453.42, 463.98, 589.36]\n"
          ]
        }
      ]
    },
    {
      "cell_type": "code",
      "source": [
        "familia = [\"abs\", 1.57, \"egfrma\", 1.768, \"mom\", 1.71, \"dad\"]\n",
        "tipo_familia=type(familia) #podemos guardar el valor de una función\n",
        "print(tipo_familia)"
      ],
      "metadata": {
        "colab": {
          "base_uri": "https://localhost:8080/"
        },
        "id": "GVXn18BtXH4X",
        "outputId": "16f6eb83-15ef-494c-baab-632c2a778eb3"
      },
      "execution_count": null,
      "outputs": [
        {
          "output_type": "stream",
          "name": "stdout",
          "text": [
            "<class 'list'>\n"
          ]
        }
      ]
    },
    {
      "cell_type": "markdown",
      "source": [
        "## EL MÉTODO: .append()\n",
        "agrega elementos o listas"
      ],
      "metadata": {
        "id": "NnQ16DEdXw5m"
      }
    },
    {
      "cell_type": "code",
      "source": [
        "months = ['Enero', 'Febrero', 'Marzo']\n",
        "months.append('Abril') #Transforma\n",
        "print(months)"
      ],
      "metadata": {
        "colab": {
          "base_uri": "https://localhost:8080/"
        },
        "id": "bOIlr1ZwXY5x",
        "outputId": "d1d0b147-a159-4238-edb7-9dfe066c451e"
      },
      "execution_count": null,
      "outputs": [
        {
          "output_type": "stream",
          "name": "stdout",
          "text": [
            "['Enero', 'Febrero', 'Marzo', 'Abril']\n"
          ]
        }
      ]
    },
    {
      "cell_type": "code",
      "source": [
        "personas=[\"Kevin\", \"Sophie\"]\n",
        "estudiantes=[\"Alonso\"]\n",
        "personas.append(estudiantes) #transfomar\n",
        "print(personas)\n",
        "print(estudiantes)"
      ],
      "metadata": {
        "colab": {
          "base_uri": "https://localhost:8080/"
        },
        "id": "SnjtA9kkX4Kw",
        "outputId": "3381385e-2ca9-4c4d-e47c-c690c965c5b0"
      },
      "execution_count": null,
      "outputs": [
        {
          "output_type": "stream",
          "name": "stdout",
          "text": [
            "['Kevin', 'Sophie', ['Alonso']]\n",
            "['Alonso']\n"
          ]
        }
      ]
    },
    {
      "cell_type": "markdown",
      "source": [
        "## EL MÉTODO: .EXTEND()"
      ],
      "metadata": {
        "id": "4jZ5I2DMZuof"
      }
    },
    {
      "cell_type": "code",
      "source": [
        "lista_estudio = [\"Kevin\", \"Sophie\"]\n",
        "otra_lista=[\"Alonso\", \"Gerson\"]\n",
        "lista_estudio.extend(otra_lista) #transformar\n",
        "print(lista_estudio)"
      ],
      "metadata": {
        "colab": {
          "base_uri": "https://localhost:8080/"
        },
        "id": "0B4tmHJvZuHE",
        "outputId": "d3a6be29-963c-4dfb-9302-b0496e05279c"
      },
      "execution_count": null,
      "outputs": [
        {
          "output_type": "stream",
          "name": "stdout",
          "text": [
            "['Kevin', 'Sophie', 'Alonso', 'Gerson']\n"
          ]
        }
      ]
    },
    {
      "cell_type": "code",
      "source": [
        "lista_1 = [1,2,3,4,5,6]\n",
        "lista_2=[7,8,9,10,11,12]\n",
        "lista_1.extend(lista_2) #transformar\n",
        "print(lista_1)"
      ],
      "metadata": {
        "colab": {
          "base_uri": "https://localhost:8080/"
        },
        "id": "OlyalMYcaMm1",
        "outputId": "81fdba3e-2a7b-49f9-aedd-bd9185f84357"
      },
      "execution_count": null,
      "outputs": [
        {
          "output_type": "stream",
          "name": "stdout",
          "text": [
            "[1, 2, 3, 4, 5, 6, 7, 8, 9, 10, 11, 12]\n"
          ]
        }
      ]
    },
    {
      "cell_type": "markdown",
      "source": [
        "## LA FUNCIÓN: max () y min()"
      ],
      "metadata": {
        "id": "79lwm9hXbBUA"
      }
    },
    {
      "cell_type": "code",
      "source": [
        "calificaciones=[1,18,7,14]\n",
        "calificacion_maxima=max(calificaciones)\n",
        "print(calificacion_maxima)\n",
        "#############\n",
        "calificacion_minima=min(calificaciones)\n",
        "print(calificacion_minima)"
      ],
      "metadata": {
        "colab": {
          "base_uri": "https://localhost:8080/"
        },
        "id": "g0wE7-RXbA8g",
        "outputId": "59f4b378-c3b8-4ee8-ae09-596ca4e64064"
      },
      "execution_count": null,
      "outputs": [
        {
          "output_type": "stream",
          "name": "stdout",
          "text": [
            "18\n",
            "1\n"
          ]
        }
      ]
    },
    {
      "cell_type": "code",
      "source": [
        "#INGRESAR A ESTE LINK PARA CONOCER MAS MÉTODOS Y FUNCIONES\n",
        "#https://datapeaker.com/big-data/15-funciones-que-debe-conocer-para-dominar-las-listas-en-python/"
      ],
      "metadata": {
        "id": "8S0f08d0b-h1"
      },
      "execution_count": null,
      "outputs": []
    },
    {
      "cell_type": "markdown",
      "source": [
        "# LOS STRING SON COMO LISTAS"
      ],
      "metadata": {
        "id": "kdrGLbqscDUZ"
      }
    },
    {
      "cell_type": "code",
      "source": [
        "lista_44=[15,14,75,84]\n",
        "lista_44[0]\n",
        "nombre=\"Kevin\"\n",
        "nombre[0]"
      ],
      "metadata": {
        "colab": {
          "base_uri": "https://localhost:8080/",
          "height": 35
        },
        "id": "RyS2mPugcCvs",
        "outputId": "3a8c1262-1177-4e3c-b476-2a511b7d86a3"
      },
      "execution_count": null,
      "outputs": [
        {
          "output_type": "execute_result",
          "data": {
            "text/plain": [
              "'K'"
            ],
            "application/vnd.google.colaboratory.intrinsic+json": {
              "type": "string"
            }
          },
          "metadata": {},
          "execution_count": 38
        }
      ]
    },
    {
      "cell_type": "code",
      "source": [
        "nombre=\"Kevin\"\n",
        "nombre[0:3]"
      ],
      "metadata": {
        "colab": {
          "base_uri": "https://localhost:8080/",
          "height": 35
        },
        "id": "6M9rL9XfdD85",
        "outputId": "a7b01b37-b342-4a25-80cc-e6d7b57fca46"
      },
      "execution_count": null,
      "outputs": [
        {
          "output_type": "execute_result",
          "data": {
            "text/plain": [
              "'Kev'"
            ],
            "application/vnd.google.colaboratory.intrinsic+json": {
              "type": "string"
            }
          },
          "metadata": {},
          "execution_count": 44
        }
      ]
    },
    {
      "cell_type": "code",
      "source": [
        "nombre=\"Kevin Jaime Martinez\"\n",
        "len(nombre)\n",
        "max(nombre)"
      ],
      "metadata": {
        "colab": {
          "base_uri": "https://localhost:8080/",
          "height": 35
        },
        "id": "pY2Azfzfcafv",
        "outputId": "6fc54718-d9b6-4b46-be03-fe26d565ae34"
      },
      "execution_count": null,
      "outputs": [
        {
          "output_type": "execute_result",
          "data": {
            "text/plain": [
              "'z'"
            ],
            "application/vnd.google.colaboratory.intrinsic+json": {
              "type": "string"
            }
          },
          "metadata": {},
          "execution_count": 42
        }
      ]
    },
    {
      "cell_type": "code",
      "source": [
        "letra=\"\"\"Wait a minute!\n",
        "I think I left my conscience\n",
        "On your front doorstep\n",
        "\n",
        "Wait a minute!\n",
        "I think I left my consciousness\n",
        "In the sixth dimension\n",
        "\n",
        "But I'm here right now, right now\n",
        "Just sitting in a cloud, oh wow\n",
        "I'm here right now, right now with you\n",
        "Oh wow, oh wow\n",
        "\n",
        "I don't even care\n",
        "I'll run my hands through your hair\n",
        "You wanna run your fingers through mine\n",
        "But my dreads too thick and that's alright\n",
        "\n",
        "Hold on, wait a minute!\n",
        "Feel my heart's intention\n",
        "Hold on, wait a minute!\n",
        "I left my consciousness\n",
        "In the sixth dimension\n",
        "Left my soul in his vision\n",
        "Let's go get it, oh, oh\n",
        "Let's go get it, oh, oh\n",
        "\n",
        "Some things don't work\n",
        "Some things are bound to be\n",
        "Some things, they hurt\n",
        "And they tear apart me\n",
        "\n",
        "You left your diary at my house\n",
        "And I read those pages\n",
        "Do you really love me, baby\n",
        "\n",
        "Some things don't work\n",
        "Some things are bound to be\n",
        "Some things, they hurt\n",
        "And they tear apart me\n",
        "\n",
        "But I broke my word\n",
        "And you were bound to see\n",
        "And I cried at the curb\n",
        "When you first said: Oel ngati kameie\n",
        "\n",
        "Hold on, wait a minute!\n",
        "Feel my heart's intention\n",
        "Hold on, wait a minute!\n",
        "I left my consciousness\n",
        "In the sixth dimension\n",
        "Left my soul in his vision\n",
        "Let's go get it, oh, oh\n",
        "Let's go get it, oh, oh\n",
        "\n",
        "Some people lie to me\n",
        "Some just tryin' to get by\n",
        "Some people I can't hurt\n",
        "Some just rather say goodbye, bye\n",
        "\n",
        "Hold on, wait a minute!\n",
        "Feel my heart's intention\n",
        "Hold on, wait a minute!\n",
        "I left my consciousness\n",
        "In the sixth dimension\n",
        "Left my soul in his vision\n",
        "Let's go get it, oh, oh\n",
        "Let's go get it, oh, oh\n",
        "\n",
        "(Let's go get it)\n",
        "(Let's go get it)\n",
        "\n",
        "¡Espera Un Minuto!\n",
        "¡Espera un minuto!\n",
        "Creo que dejé mi conciencia\n",
        "En el escalón de tu puerta principal\n",
        "\n",
        "¡Espera un minuto!\n",
        "Creo que dejé mi conciencia\n",
        "En la sexta dimensión\n",
        "\n",
        "Pero estoy aquí ahora, ahora\n",
        "Simplemente sentada en una nube, oh wow\n",
        "Estoy aquí ahora, ahora contigo\n",
        "Oh wow, oh wow\n",
        "\n",
        "Ni siquiera me importa\n",
        "Pasar mis manos por tu pelo\n",
        "Quieres pasar tus dedos por el mío\n",
        "Pero mis trenzas son muy gruesas y está bien\n",
        "\n",
        "¡Espera, espera un minuto!\n",
        "Siente la intención de mi corazón\n",
        "¡Espera, espera un minuto!\n",
        "Dejé mi conciencia\n",
        "En la sexta dimensión\n",
        "Dejé mi alma en su visión\n",
        "Vamos a buscarla, oh, oh\n",
        "Vamos a buscarla, oh, oh\n",
        "\n",
        "Algunas cosas no funcionan\n",
        "Algunas cosas están obligadas a ser\n",
        "Algunas cosas hacen daño\n",
        "Y me destrozan\n",
        "\n",
        "Dejaste tu diario en mi casa\n",
        "Y leí esas páginas\n",
        "De verdad me amas, amor\n",
        "\n",
        "Algunas cosas no funcionan\n",
        "Algunas cosas están obligadas a ser\n",
        "Algunas cosas hacen daño\n",
        "Y me destrozan\n",
        "\n",
        "Pero no cumplí mi palabra\n",
        "Y estabas obligado a ver\n",
        "Y lloré en la acera\n",
        "Cuando lo primero que dijiste fue: Te veo cómo eres y te respeto\n",
        "\n",
        "¡Espera, espera un minuto!\n",
        "Siente la intención de mi corazón\n",
        "¡Espera, espera un minuto!\n",
        "Dejé mi conciencia\n",
        "En la sexta dimensión\n",
        "Dejé mi alma en su visión\n",
        "Vamos a buscarla, oh, oh\n",
        "Vamos a buscarla, oh, oh\n",
        "\n",
        "Algunas personas me mienten\n",
        "Algunas solo tratan de fingir\n",
        "A algunas personas no puedo lastimar\n",
        "Algunas prefieren decir adiós, adiós\n",
        "\n",
        "¡Espera, espera un minuto!\n",
        "Siente la intención de mi corazón\n",
        "¡Espera, espera un minuto!\n",
        "Dejé mi conciencia\n",
        "En la sexta dimensión\n",
        "Dejé mi alma en su visión\n",
        "Vamos a buscarla, oh, oh\n",
        "Vamos a buscarla, oh, oh\n",
        "\n",
        "(Vamos a buscarla)\n",
        "(Vamos a buscarla)\"\"\"\n",
        "#print(letra)\n",
        "letra_nueva = letra.replace(\"minuto\", \"segundo\")\n",
        "print(letra_nueva)"
      ],
      "metadata": {
        "colab": {
          "base_uri": "https://localhost:8080/"
        },
        "id": "pEdW3WkMdXz3",
        "outputId": "a3b14238-5c0b-49d0-b68f-11e377202dc2"
      },
      "execution_count": null,
      "outputs": [
        {
          "output_type": "stream",
          "name": "stdout",
          "text": [
            "Wait a minute!\n",
            "I think I left my conscience\n",
            "On your front doorstep\n",
            "\n",
            "Wait a minute!\n",
            "I think I left my consciousness\n",
            "In the sixth dimension\n",
            "\n",
            "But I'm here right now, right now\n",
            "Just sitting in a cloud, oh wow\n",
            "I'm here right now, right now with you\n",
            "Oh wow, oh wow\n",
            "\n",
            "I don't even care\n",
            "I'll run my hands through your hair\n",
            "You wanna run your fingers through mine\n",
            "But my dreads too thick and that's alright\n",
            "\n",
            "Hold on, wait a minute!\n",
            "Feel my heart's intention\n",
            "Hold on, wait a minute!\n",
            "I left my consciousness\n",
            "In the sixth dimension\n",
            "Left my soul in his vision\n",
            "Let's go get it, oh, oh\n",
            "Let's go get it, oh, oh\n",
            "\n",
            "Some things don't work\n",
            "Some things are bound to be\n",
            "Some things, they hurt\n",
            "And they tear apart me\n",
            "\n",
            "You left your diary at my house\n",
            "And I read those pages\n",
            "Do you really love me, baby\n",
            "\n",
            "Some things don't work\n",
            "Some things are bound to be\n",
            "Some things, they hurt\n",
            "And they tear apart me\n",
            "\n",
            "But I broke my word\n",
            "And you were bound to see\n",
            "And I cried at the curb\n",
            "When you first said: Oel ngati kameie\n",
            "\n",
            "Hold on, wait a minute!\n",
            "Feel my heart's intention\n",
            "Hold on, wait a minute!\n",
            "I left my consciousness\n",
            "In the sixth dimension\n",
            "Left my soul in his vision\n",
            "Let's go get it, oh, oh\n",
            "Let's go get it, oh, oh\n",
            "\n",
            "Some people lie to me\n",
            "Some just tryin' to get by\n",
            "Some people I can't hurt\n",
            "Some just rather say goodbye, bye\n",
            "\n",
            "Hold on, wait a minute!\n",
            "Feel my heart's intention\n",
            "Hold on, wait a minute!\n",
            "I left my consciousness\n",
            "In the sixth dimension\n",
            "Left my soul in his vision\n",
            "Let's go get it, oh, oh\n",
            "Let's go get it, oh, oh\n",
            "\n",
            "(Let's go get it)\n",
            "(Let's go get it)\n",
            "\n",
            "¡Espera Un Minuto!\n",
            "¡Espera un segundo!\n",
            "Creo que dejé mi conciencia\n",
            "En el escalón de tu puerta principal\n",
            "\n",
            "¡Espera un segundo!\n",
            "Creo que dejé mi conciencia\n",
            "En la sexta dimensión\n",
            "\n",
            "Pero estoy aquí ahora, ahora\n",
            "Simplemente sentada en una nube, oh wow\n",
            "Estoy aquí ahora, ahora contigo\n",
            "Oh wow, oh wow\n",
            "\n",
            "Ni siquiera me importa\n",
            "Pasar mis manos por tu pelo\n",
            "Quieres pasar tus dedos por el mío\n",
            "Pero mis trenzas son muy gruesas y está bien\n",
            "\n",
            "¡Espera, espera un segundo!\n",
            "Siente la intención de mi corazón\n",
            "¡Espera, espera un segundo!\n",
            "Dejé mi conciencia\n",
            "En la sexta dimensión\n",
            "Dejé mi alma en su visión\n",
            "Vamos a buscarla, oh, oh\n",
            "Vamos a buscarla, oh, oh\n",
            "\n",
            "Algunas cosas no funcionan\n",
            "Algunas cosas están obligadas a ser\n",
            "Algunas cosas hacen daño\n",
            "Y me destrozan\n",
            "\n",
            "Dejaste tu diario en mi casa\n",
            "Y leí esas páginas\n",
            "De verdad me amas, amor\n",
            "\n",
            "Algunas cosas no funcionan\n",
            "Algunas cosas están obligadas a ser\n",
            "Algunas cosas hacen daño\n",
            "Y me destrozan\n",
            "\n",
            "Pero no cumplí mi palabra\n",
            "Y estabas obligado a ver\n",
            "Y lloré en la acera\n",
            "Cuando lo primero que dijiste fue: Te veo cómo eres y te respeto\n",
            "\n",
            "¡Espera, espera un segundo!\n",
            "Siente la intención de mi corazón\n",
            "¡Espera, espera un segundo!\n",
            "Dejé mi conciencia\n",
            "En la sexta dimensión\n",
            "Dejé mi alma en su visión\n",
            "Vamos a buscarla, oh, oh\n",
            "Vamos a buscarla, oh, oh\n",
            "\n",
            "Algunas personas me mienten\n",
            "Algunas solo tratan de fingir\n",
            "A algunas personas no puedo lastimar\n",
            "Algunas prefieren decir adiós, adiós\n",
            "\n",
            "¡Espera, espera un segundo!\n",
            "Siente la intención de mi corazón\n",
            "¡Espera, espera un segundo!\n",
            "Dejé mi conciencia\n",
            "En la sexta dimensión\n",
            "Dejé mi alma en su visión\n",
            "Vamos a buscarla, oh, oh\n",
            "Vamos a buscarla, oh, oh\n",
            "\n",
            "(Vamos a buscarla)\n",
            "(Vamos a buscarla)\n"
          ]
        }
      ]
    },
    {
      "cell_type": "markdown",
      "source": [
        "# CONOCIENDO A NUMPY"
      ],
      "metadata": {
        "id": "HLXJUBfzffjP"
      }
    },
    {
      "cell_type": "code",
      "source": [
        "import numpy as np\n",
        "\n",
        "lista_numeros=[1,5,2,7]\n",
        "np.mean(lista_numeros)#para usar una función de numpy es necesario convocarlo"
      ],
      "metadata": {
        "colab": {
          "base_uri": "https://localhost:8080/"
        },
        "id": "hWKQno0qe43_",
        "outputId": "5dea8799-c712-44b4-a09f-22b9f1576304"
      },
      "execution_count": null,
      "outputs": [
        {
          "output_type": "execute_result",
          "data": {
            "text/plain": [
              "3.75"
            ]
          },
          "metadata": {},
          "execution_count": 48
        }
      ]
    },
    {
      "cell_type": "code",
      "source": [
        "#CONVERTIR LISTAS EN VECTORES\n",
        "lista_numeros=[1,5,2,7]\n",
        "vector=np.array(lista_numeros) #con np.array convertimos de lista a vector\n",
        "vector*10\n"
      ],
      "metadata": {
        "colab": {
          "base_uri": "https://localhost:8080/"
        },
        "id": "LbkGlpKAgFgx",
        "outputId": "f9d82fe1-4f38-4d9f-bfc2-247c4049372f"
      },
      "execution_count": null,
      "outputs": [
        {
          "output_type": "execute_result",
          "data": {
            "text/plain": [
              "array([10, 50, 20, 70])"
            ]
          },
          "metadata": {},
          "execution_count": 54
        }
      ]
    }
  ]
}