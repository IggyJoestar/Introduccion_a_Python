{
  "nbformat": 4,
  "nbformat_minor": 0,
  "metadata": {
    "colab": {
      "provenance": []
    },
    "kernelspec": {
      "name": "python3",
      "display_name": "Python 3"
    },
    "language_info": {
      "name": "python"
    }
  },
  "cells": [
    {
      "cell_type": "code",
      "source": [
        "5"
      ],
      "metadata": {
        "colab": {
          "base_uri": "https://localhost:8080/"
        },
        "id": "2p12D9SJfVU7",
        "outputId": "7b7bfc80-10b6-4d2d-84aa-2f4ccf82ca50"
      },
      "execution_count": null,
      "outputs": [
        {
          "output_type": "execute_result",
          "data": {
            "text/plain": [
              "5"
            ]
          },
          "metadata": {},
          "execution_count": 4
        }
      ]
    },
    {
      "cell_type": "code",
      "source": [
        "8/2"
      ],
      "metadata": {
        "colab": {
          "base_uri": "https://localhost:8080/"
        },
        "id": "AKZbQPfDgdZK",
        "outputId": "956c8dc4-ecae-424b-d945-179de60d2e71"
      },
      "execution_count": null,
      "outputs": [
        {
          "output_type": "execute_result",
          "data": {
            "text/plain": [
              "4.0"
            ]
          },
          "metadata": {},
          "execution_count": 5
        }
      ]
    },
    {
      "cell_type": "code",
      "source": [
        "8/0"
      ],
      "metadata": {
        "colab": {
          "base_uri": "https://localhost:8080/",
          "height": 176
        },
        "id": "9Z8_vStjgilK",
        "outputId": "5b9855a9-fdb2-4bd9-cfc8-e2d5773a88ae"
      },
      "execution_count": null,
      "outputs": [
        {
          "output_type": "error",
          "ename": "ZeroDivisionError",
          "evalue": "division by zero",
          "traceback": [
            "\u001b[0;31m---------------------------------------------------------------------------\u001b[0m",
            "\u001b[0;31mZeroDivisionError\u001b[0m                         Traceback (most recent call last)",
            "\u001b[0;32m<ipython-input-6-b75faf41dc75>\u001b[0m in \u001b[0;36m<cell line: 1>\u001b[0;34m()\u001b[0m\n\u001b[0;32m----> 1\u001b[0;31m \u001b[0;36m8\u001b[0m\u001b[0;34m/\u001b[0m\u001b[0;36m0\u001b[0m\u001b[0;34m\u001b[0m\u001b[0;34m\u001b[0m\u001b[0m\n\u001b[0m",
            "\u001b[0;31mZeroDivisionError\u001b[0m: division by zero"
          ]
        }
      ]
    },
    {
      "cell_type": "code",
      "source": [],
      "metadata": {
        "id": "02cxOBJcg2OW"
      },
      "execution_count": null,
      "outputs": []
    },
    {
      "cell_type": "code",
      "source": [
        "8+2"
      ],
      "metadata": {
        "colab": {
          "base_uri": "https://localhost:8080/"
        },
        "id": "J-RBP8QFgiuf",
        "outputId": "d2a4115a-e459-40d4-c72e-9402da33b629"
      },
      "execution_count": null,
      "outputs": [
        {
          "output_type": "execute_result",
          "data": {
            "text/plain": [
              "10"
            ]
          },
          "metadata": {},
          "execution_count": 7
        }
      ]
    },
    {
      "cell_type": "code",
      "source": [
        "8/(0+2)"
      ],
      "metadata": {
        "colab": {
          "base_uri": "https://localhost:8080/"
        },
        "id": "BgZT6a1GguPW",
        "outputId": "b735c025-380a-4024-d013-508dda4ca604"
      },
      "execution_count": null,
      "outputs": [
        {
          "output_type": "execute_result",
          "data": {
            "text/plain": [
              "4.0"
            ]
          },
          "metadata": {},
          "execution_count": 8
        }
      ]
    },
    {
      "cell_type": "code",
      "source": [
        "77*000$"
      ],
      "metadata": {
        "colab": {
          "base_uri": "https://localhost:8080/",
          "height": 141
        },
        "id": "6DhddIk3hPhf",
        "outputId": "9871ff03-b8aa-45fd-bc80-5ac4e8527b8d"
      },
      "execution_count": null,
      "outputs": [
        {
          "output_type": "error",
          "ename": "SyntaxError",
          "evalue": "invalid syntax (<ipython-input-10-5b924e31bad8>, line 1)",
          "traceback": [
            "\u001b[0;36m  File \u001b[0;32m\"<ipython-input-10-5b924e31bad8>\"\u001b[0;36m, line \u001b[0;32m1\u001b[0m\n\u001b[0;31m    77*000$\u001b[0m\n\u001b[0m          ^\u001b[0m\n\u001b[0;31mSyntaxError\u001b[0m\u001b[0;31m:\u001b[0m invalid syntax\n"
          ]
        }
      ]
    },
    {
      "cell_type": "code",
      "source": [
        "\n",
        "59\n",
        "75"
      ],
      "metadata": {
        "colab": {
          "base_uri": "https://localhost:8080/"
        },
        "id": "LqlzkfKohVp8",
        "outputId": "04d8b979-dbec-43d9-957d-b0a147e76cdd"
      },
      "execution_count": null,
      "outputs": [
        {
          "output_type": "execute_result",
          "data": {
            "text/plain": [
              "75"
            ]
          },
          "metadata": {},
          "execution_count": 12
        }
      ]
    },
    {
      "cell_type": "code",
      "source": [
        "'hola            que tal'"
      ],
      "metadata": {
        "colab": {
          "base_uri": "https://localhost:8080/",
          "height": 35
        },
        "id": "HsOwpITXiA6B",
        "outputId": "d87a2f7b-6430-4d04-d0dc-37aae7a23b86"
      },
      "execution_count": null,
      "outputs": [
        {
          "output_type": "execute_result",
          "data": {
            "text/plain": [
              "'hola            que tal'"
            ],
            "application/vnd.google.colaboratory.intrinsic+json": {
              "type": "string"
            }
          },
          "metadata": {},
          "execution_count": 21
        }
      ]
    },
    {
      "cell_type": "code",
      "source": [
        "52\n",
        "35"
      ],
      "metadata": {
        "colab": {
          "base_uri": "https://localhost:8080/"
        },
        "id": "0nzY94C4jl05",
        "outputId": "2dd18905-3215-4696-d28d-f9bac6f41e69"
      },
      "execution_count": null,
      "outputs": [
        {
          "output_type": "execute_result",
          "data": {
            "text/plain": [
              "35"
            ]
          },
          "metadata": {},
          "execution_count": 27
        }
      ]
    },
    {
      "cell_type": "code",
      "source": [
        "print(52)\n",
        "print(35)\n",
        "number=100\n",
        "print(\"hola pucp\")\n",
        "print(number)"
      ],
      "metadata": {
        "colab": {
          "base_uri": "https://localhost:8080/"
        },
        "id": "t5KISeFjidPc",
        "outputId": "d194de4b-5f4c-4379-facd-c44a2181062f"
      },
      "execution_count": null,
      "outputs": [
        {
          "output_type": "stream",
          "name": "stdout",
          "text": [
            "52\n",
            "35\n",
            "hola pucp\n",
            "100\n"
          ]
        }
      ]
    },
    {
      "cell_type": "code",
      "source": [
        "nombre=\"Abraham\"\n",
        "edad=22\n",
        "print(52)"
      ],
      "metadata": {
        "colab": {
          "base_uri": "https://localhost:8080/"
        },
        "id": "b3gndVSJjHXT",
        "outputId": "34ecd269-3f4f-4dac-928e-6ba2c9de8033"
      },
      "execution_count": null,
      "outputs": [
        {
          "output_type": "stream",
          "name": "stdout",
          "text": [
            "52\n"
          ]
        }
      ]
    },
    {
      "cell_type": "code",
      "source": [
        "#esta es nuestra primera operacion\n",
        "print(5+6)\n",
        "#asi se escribe hola\n",
        "print(\"hola\")\n"
      ],
      "metadata": {
        "colab": {
          "base_uri": "https://localhost:8080/"
        },
        "id": "wYfmjVsBlU2I",
        "outputId": "06d28e8b-1345-41dc-cbab-3cb69c6bc359"
      },
      "execution_count": null,
      "outputs": [
        {
          "output_type": "stream",
          "name": "stdout",
          "text": [
            "11\n",
            "hola\n"
          ]
        }
      ]
    },
    {
      "cell_type": "code",
      "source": [
        "type(\"hola \")"
      ],
      "metadata": {
        "colab": {
          "base_uri": "https://localhost:8080/"
        },
        "id": "5kowl4t2mMN1",
        "outputId": "1691cbdd-cd48-4c99-d90c-bb0bcdb397f1"
      },
      "execution_count": null,
      "outputs": [
        {
          "output_type": "execute_result",
          "data": {
            "text/plain": [
              "str"
            ]
          },
          "metadata": {},
          "execution_count": 45
        }
      ]
    },
    {
      "cell_type": "code",
      "source": [
        "print(\"basico\")\n",
        "#expresion_ mezclando texto con números o valores\n",
        "\n",
        "print(\"1+2 =\",3)\n",
        "print(\"mi edad es\",21,\"cumpliré 22 este año\")\n"
      ],
      "metadata": {
        "colab": {
          "base_uri": "https://localhost:8080/"
        },
        "id": "EGbIThqZmaD6",
        "outputId": "3ed9532c-e740-46f1-8d60-b9c0f8ec659a"
      },
      "execution_count": null,
      "outputs": [
        {
          "output_type": "stream",
          "name": "stdout",
          "text": [
            "basico\n",
            "1+2 = 3\n",
            "mi edad es 21 cumpliré 22 este año\n"
          ]
        }
      ]
    },
    {
      "cell_type": "code",
      "source": [
        "nombre=\"Kevin\"\n",
        "EDAD_de_estudiante=19\n",
        "carrera=\"Finanzas\"\n",
        "print(\"mi nombre es \",nombre)\n",
        "print(\"mi carrera es\", carrera)\n",
        "print(\"mi edad es\", EDAD_de_estudiante)"
      ],
      "metadata": {
        "colab": {
          "base_uri": "https://localhost:8080/"
        },
        "id": "SPOOWeSKnpvV",
        "outputId": "3502e4d2-1c9c-4fa2-8516-d3fe2ba3bf60"
      },
      "execution_count": null,
      "outputs": [
        {
          "output_type": "stream",
          "name": "stdout",
          "text": [
            "mi nombre es  Kevin\n",
            "mi carrera es Finanzas\n",
            "mi edad es 19\n"
          ]
        }
      ]
    },
    {
      "cell_type": "code",
      "source": [
        "print(\"basico\")\n",
        "print(\"1 + 1 =\", 1 + 1)\n",
        "print(\"2 + 4 =\", 2 + 4)\n",
        "print(\"5 - 2 =\", 5 - 2)"
      ],
      "metadata": {
        "colab": {
          "base_uri": "https://localhost:8080/"
        },
        "id": "bcTypcYboedB",
        "outputId": "1e03b122-13e9-4463-d7d0-76fc1d60d7d2"
      },
      "execution_count": null,
      "outputs": [
        {
          "output_type": "stream",
          "name": "stdout",
          "text": [
            "basico\n",
            "1 + 1 = 2\n",
            "2 + 4 = 6\n",
            "5 - 2 = 3\n"
          ]
        }
      ]
    },
    {
      "cell_type": "code",
      "source": [
        "print(\"Economia es una carrera de sociales\")\n",
        "print(\"                -- No voy a bikear\")"
      ],
      "metadata": {
        "colab": {
          "base_uri": "https://localhost:8080/"
        },
        "id": "6hexHN30oqZN",
        "outputId": "9503240e-e379-4124-dbe9-9645527ef895"
      },
      "execution_count": null,
      "outputs": [
        {
          "output_type": "stream",
          "name": "stdout",
          "text": [
            "Economia es una carrera de sociales\n",
            "                -- No voy a bikear\n"
          ]
        }
      ]
    },
    {
      "cell_type": "code",
      "source": [
        "#formula del area del cuadrado\n",
        "lado=10\n",
        "area=lado**2\n",
        "print(area)"
      ],
      "metadata": {
        "colab": {
          "base_uri": "https://localhost:8080/"
        },
        "id": "J15q94X5pXR7",
        "outputId": "52beceab-35b9-4636-b02c-26d54154ea6a"
      },
      "execution_count": null,
      "outputs": [
        {
          "output_type": "stream",
          "name": "stdout",
          "text": [
            "100\n"
          ]
        }
      ]
    },
    {
      "cell_type": "code",
      "source": [
        "#formula del area del cuadrado\n",
        "velocidad=24\n",
        "tiempo=5755\n",
        "distancia=velocidad*tiempo\n",
        "print(distancia)"
      ],
      "metadata": {
        "colab": {
          "base_uri": "https://localhost:8080/"
        },
        "id": "fOUySP7mpt8J",
        "outputId": "1d69f947-9bf2-4f44-eaee-9d166cfdd02f"
      },
      "execution_count": null,
      "outputs": [
        {
          "output_type": "stream",
          "name": "stdout",
          "text": [
            "138120\n"
          ]
        }
      ]
    },
    {
      "cell_type": "code",
      "source": [
        "#Valor futuro\n",
        "vp=10\n",
        "tasa=0.2366\n",
        "periodos=5\n",
        "vf=100*(1+tasa)**periodos\n",
        "print(vf)"
      ],
      "metadata": {
        "colab": {
          "base_uri": "https://localhost:8080/"
        },
        "id": "sEXCPJiFqFF7",
        "outputId": "a3b92c11-2e72-4688-84da-767579cf2ac0"
      },
      "execution_count": null,
      "outputs": [
        {
          "output_type": "stream",
          "name": "stdout",
          "text": [
            "289.1653230704169\n"
          ]
        }
      ]
    },
    {
      "cell_type": "code",
      "source": [
        "#Valor futuro\n",
        "vp=100\n",
        "tasa=0.15\n",
        "periodos=4\n",
        "vf=vp*(1+tasa)**periodos\n",
        "print(\"si tu monto inicial es\",vp)\n",
        "print(\"y tu tasa de interés simple es\", tasa)\n",
        "print(\"en\",periodos,\"periodos\")\n",
        "print(\"tu valor final será:\",vf)"
      ],
      "metadata": {
        "colab": {
          "base_uri": "https://localhost:8080/"
        },
        "id": "Uj2AvXIcq2CA",
        "outputId": "a995d1ee-7db2-4b33-8d57-9c36c68861a0"
      },
      "execution_count": null,
      "outputs": [
        {
          "output_type": "stream",
          "name": "stdout",
          "text": [
            "si tu monto inicial es 100\n",
            "y tu tasa de interés simple es 0.15\n",
            "en 4 periodos\n",
            "tu valor final será: 174.90062499999993\n"
          ]
        }
      ]
    }
  ]
}