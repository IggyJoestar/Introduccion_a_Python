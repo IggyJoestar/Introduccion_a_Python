{
  "nbformat": 4,
  "nbformat_minor": 0,
  "metadata": {
    "colab": {
      "provenance": []
    },
    "kernelspec": {
      "name": "python3",
      "display_name": "Python 3"
    },
    "language_info": {
      "name": "python"
    }
  },
  "cells": [
    {
      "cell_type": "markdown",
      "source": [
        "# ciclo For:\n",
        "Trabaja con listas\n"
      ],
      "metadata": {
        "id": "_M-zCcpr_yxW"
      }
    },
    {
      "cell_type": "code",
      "execution_count": null,
      "metadata": {
        "colab": {
          "base_uri": "https://localhost:8080/"
        },
        "id": "k2mkQ3gq_rm_",
        "outputId": "3ab592a0-b969-4589-c2d3-c02498279773"
      },
      "outputs": [
        {
          "output_type": "stream",
          "name": "stdout",
          "text": [
            "1\n",
            "2\n",
            "3\n",
            "4\n",
            "5\n"
          ]
        }
      ],
      "source": [
        "print(1)\n",
        "print(2)\n",
        "print(3)\n",
        "print(4)\n",
        "print(5)\n"
      ]
    },
    {
      "cell_type": "code",
      "source": [
        "lista_numeros=[1,2,3,4,5,6,7,8,9,10]\n",
        "# for nombre_cualquiera in <lista>:\n",
        "  # la orden\n",
        "for numero in lista_numeros:\n",
        "  print(numero**2)\n",
        "\n",
        "for numero in lista_numeros:\n",
        "  print(numero/2)\n",
        "\n",
        "\n",
        "\n",
        "nombres=[\"Kevin\", \"Alonso\", \"Gerson\"]\n",
        "\n",
        "#1) define la acción:\n",
        "nombre=\"kevin\"\n",
        "print(\"buenos días \"+nombre+\", espero que estés muy bien.\")"
      ],
      "metadata": {
        "colab": {
          "base_uri": "https://localhost:8080/"
        },
        "id": "kvX_POT7_v8H",
        "outputId": "51249a89-e477-4778-99b4-8f577c6866e5"
      },
      "execution_count": null,
      "outputs": [
        {
          "output_type": "stream",
          "name": "stdout",
          "text": [
            "1\n",
            "4\n",
            "9\n",
            "16\n",
            "25\n",
            "36\n",
            "49\n",
            "64\n",
            "81\n",
            "100\n",
            "0.5\n",
            "1.0\n",
            "1.5\n",
            "2.0\n",
            "2.5\n",
            "3.0\n",
            "3.5\n",
            "4.0\n",
            "4.5\n",
            "5.0\n",
            "buenos días kevin, espero que estés muy bien.\n"
          ]
        }
      ]
    },
    {
      "cell_type": "code",
      "source": [
        "nombres=[\"Kevin\", \"Alonso\", \"Gerson\"]\n",
        "\n",
        "#1) define la acción:\n",
        "nombre=\"kevin\"\n",
        "print(\"buenos días \"+nombre+\", espero que estés muy bien.\")\n",
        "\n",
        "#2) hacer el bucle\n",
        "for name in nombres:\n",
        "  print(\"buenos días \"+name+\", espero que estés muy bien.\")"
      ],
      "metadata": {
        "colab": {
          "base_uri": "https://localhost:8080/"
        },
        "id": "0ui7URBOCEgb",
        "outputId": "254c4f13-bbfc-4878-a38c-f57466cece76"
      },
      "execution_count": null,
      "outputs": [
        {
          "output_type": "stream",
          "name": "stdout",
          "text": [
            "buenos días kevin, espero que estés muy bien.\n",
            "buenos días Kevin, espero que estés muy bien.\n",
            "buenos días Alonso, espero que estés muy bien.\n",
            "buenos días Gerson, espero que estés muy bien.\n"
          ]
        }
      ]
    },
    {
      "cell_type": "code",
      "source": [
        "nombres=[\"Kevin\", \"Alonso\", \"Gerson\"]\n",
        "for name in nombres:\n",
        "  print(\"buenos días \"+name+\", espero que estés muy bien.\")"
      ],
      "metadata": {
        "colab": {
          "base_uri": "https://localhost:8080/"
        },
        "id": "o2IkMUFXCVsD",
        "outputId": "57ab1b47-451e-48cd-f994-b73fc76e19bd"
      },
      "execution_count": null,
      "outputs": [
        {
          "output_type": "stream",
          "name": "stdout",
          "text": [
            "buenos días Kevin, espero que estés muy bien.\n",
            "buenos días Alonso, espero que estés muy bien.\n",
            "buenos días Gerson, espero que estés muy bien.\n"
          ]
        }
      ]
    },
    {
      "cell_type": "markdown",
      "source": [
        "## for in range()\n",
        "\n",
        "aqui no es necesario definir una lista:\n",
        "Python toma los valores desde range(PRIMER VALOR, POSTULTIMO)\n",
        "\n"
      ],
      "metadata": {
        "id": "sTGj9O-gC9oY"
      }
    },
    {
      "cell_type": "code",
      "source": [
        "for number in range(1,21):\n",
        "  print(number**2)"
      ],
      "metadata": {
        "colab": {
          "base_uri": "https://localhost:8080/"
        },
        "id": "ShCaxruaC_3r",
        "outputId": "1554cda3-007e-47f8-f401-4cc108f0f00f"
      },
      "execution_count": null,
      "outputs": [
        {
          "output_type": "stream",
          "name": "stdout",
          "text": [
            "1\n",
            "4\n",
            "9\n",
            "16\n",
            "25\n",
            "36\n",
            "49\n",
            "64\n",
            "81\n",
            "100\n",
            "121\n",
            "144\n",
            "169\n",
            "196\n",
            "225\n",
            "256\n",
            "289\n",
            "324\n",
            "361\n",
            "400\n"
          ]
        }
      ]
    },
    {
      "cell_type": "code",
      "source": [
        "#Escribir un programa que pida al usuario una palabra y la muestre por pantalla 10 veces.\n",
        "palabra=input(\"Escribe una palabra: \")\n",
        "for a in range(1,21):  #es que lo haga 10 veces\n",
        "  print(palabra)\n"
      ],
      "metadata": {
        "colab": {
          "base_uri": "https://localhost:8080/"
        },
        "id": "jewmnlTID5L3",
        "outputId": "371d0edb-d44c-49a4-b4d4-5c7ab3ecd0dd"
      },
      "execution_count": null,
      "outputs": [
        {
          "output_type": "stream",
          "name": "stdout",
          "text": [
            "Escribe una palabra: juan\n",
            "juan\n",
            "juan\n",
            "juan\n",
            "juan\n",
            "juan\n",
            "juan\n",
            "juan\n",
            "juan\n",
            "juan\n",
            "juan\n",
            "juan\n",
            "juan\n",
            "juan\n",
            "juan\n",
            "juan\n",
            "juan\n",
            "juan\n",
            "juan\n",
            "juan\n",
            "juan\n"
          ]
        }
      ]
    },
    {
      "cell_type": "code",
      "source": [
        "# Escribir un programa que pregunte al usuario su edad y\n",
        "#muestre por pantalla todos los años que ha cumplido (desde 1 hasta su edad).\n",
        "edad=int(input(\"cual es tu edad: \"))\n",
        "for b in range(1,edad+1):\n",
        "  print(b)"
      ],
      "metadata": {
        "colab": {
          "base_uri": "https://localhost:8080/"
        },
        "id": "wBJ-UQvCCpTB",
        "outputId": "cd0e351d-73b1-44cb-a6b4-45f64404aa42"
      },
      "execution_count": null,
      "outputs": [
        {
          "output_type": "stream",
          "name": "stdout",
          "text": [
            "cual es tu edad: 15\n",
            "1\n",
            "2\n",
            "3\n",
            "4\n",
            "5\n",
            "6\n",
            "7\n",
            "8\n",
            "9\n",
            "10\n",
            "11\n",
            "12\n",
            "13\n",
            "14\n",
            "15\n"
          ]
        }
      ]
    },
    {
      "cell_type": "code",
      "source": [],
      "metadata": {
        "id": "k9a_gKVHF8bD"
      },
      "execution_count": null,
      "outputs": []
    },
    {
      "cell_type": "markdown",
      "source": [
        "## actualizar variables en un ciclo\n"
      ],
      "metadata": {
        "id": "dbcM5twLF9UX"
      }
    },
    {
      "cell_type": "code",
      "source": [
        "x=5\n",
        "x=x+1 #actualización de variable\n",
        "print(x)"
      ],
      "metadata": {
        "colab": {
          "base_uri": "https://localhost:8080/"
        },
        "id": "TmLBHaJdGBOC",
        "outputId": "aa1a56b4-1aaa-4fa0-86d0-50450284deae"
      },
      "execution_count": null,
      "outputs": [
        {
          "output_type": "stream",
          "name": "stdout",
          "text": [
            "6\n"
          ]
        }
      ]
    },
    {
      "cell_type": "code",
      "source": [
        "#no es muy recomendable\n",
        "x=4\n",
        "x+=1  #sume uno al valor antiguo de la variable\n",
        "print(x)"
      ],
      "metadata": {
        "colab": {
          "base_uri": "https://localhost:8080/"
        },
        "id": "bePZrJ4sGLLz",
        "outputId": "ab8c4a93-7d0b-4055-ec31-2e3bd8e494e7"
      },
      "execution_count": null,
      "outputs": [
        {
          "output_type": "stream",
          "name": "stdout",
          "text": [
            "5\n"
          ]
        }
      ]
    },
    {
      "cell_type": "code",
      "source": [
        "x=4\n",
        "x=x+1\n",
        "x=x+1\n",
        "x=x+1\n",
        "print(x)"
      ],
      "metadata": {
        "colab": {
          "base_uri": "https://localhost:8080/"
        },
        "id": "z464SWkBGkvS",
        "outputId": "7f5f3939-d321-4bce-b776-435c346ed4fa"
      },
      "execution_count": null,
      "outputs": [
        {
          "output_type": "stream",
          "name": "stdout",
          "text": [
            "7\n"
          ]
        }
      ]
    },
    {
      "cell_type": "code",
      "source": [
        "frase=\"uva es una fruta\"\n",
        "#en este caso la frase va ser una lista\n",
        "contador =0\n",
        "for letra in frase:\n",
        "  if letra==\"u\":\n",
        "    contador=contador+1 #si encuentra una letra se sume uno al valor del contador\n",
        "print(contador)\n"
      ],
      "metadata": {
        "colab": {
          "base_uri": "https://localhost:8080/"
        },
        "id": "fkKkA7wnG-X9",
        "outputId": "e7d72d58-9fa0-41d0-fb07-daf8b7f09425"
      },
      "execution_count": null,
      "outputs": [
        {
          "output_type": "stream",
          "name": "stdout",
          "text": [
            "3\n"
          ]
        }
      ]
    },
    {
      "cell_type": "code",
      "source": [
        "frase=\"un hombre fue al campo\"\n",
        "#en este caso la frase va ser una lista\n",
        "contador =0\n",
        "for letra in frase:\n",
        "  if letra==\"u\":\n",
        "    contador=contador+1 #si encuentra una letra se sume uno al valor del contador\n",
        "print(\"este es número de veces que se repite la letra u:\", contador)"
      ],
      "metadata": {
        "colab": {
          "base_uri": "https://localhost:8080/"
        },
        "id": "NTxdh-QjJX3g",
        "outputId": "f6bc34f8-c6b5-4d35-975d-ba9d47135dbf"
      },
      "execution_count": null,
      "outputs": [
        {
          "output_type": "stream",
          "name": "stdout",
          "text": [
            "este es número de veces que se repite la letra u: 2\n"
          ]
        }
      ]
    },
    {
      "cell_type": "code",
      "source": [
        "frase=input(\"escribe una frase: \").lower()\n",
        "#en este caso la frase va ser una lista\n",
        "contador =0\n",
        "caracter=input(\"escribe una letra: \").lower()\n",
        "for letra in frase:\n",
        "  if letra==caracter:\n",
        "    contador=contador+1 #si encuentra una letra se sume uno al valor del contador\n",
        "print(\"la letra\",caracter, \"se repite\", contador,\"veces\")"
      ],
      "metadata": {
        "colab": {
          "base_uri": "https://localhost:8080/"
        },
        "id": "cU1x6y9xJqNh",
        "outputId": "0c6ddf4e-bbb1-45af-a5f2-f66c772314c2"
      },
      "execution_count": null,
      "outputs": [
        {
          "output_type": "stream",
          "name": "stdout",
          "text": [
            "escribe una frase: El cielo es azul\n",
            "escribe una letra: e\n",
            "la letra e se repite 3 veces\n"
          ]
        }
      ]
    }
  ]
}