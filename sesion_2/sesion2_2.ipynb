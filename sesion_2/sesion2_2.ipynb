{
  "nbformat": 4,
  "nbformat_minor": 0,
  "metadata": {
    "colab": {
      "provenance": []
    },
    "kernelspec": {
      "name": "python3",
      "display_name": "Python 3"
    },
    "language_info": {
      "name": "python"
    }
  },
  "cells": [
    {
      "cell_type": "code",
      "source": [
        "print(\"el amor es el moto del mundo\")"
      ],
      "metadata": {
        "colab": {
          "base_uri": "https://localhost:8080/"
        },
        "id": "U7gNeycAj4Qx",
        "outputId": "89bc89d9-42bf-41d7-a25f-3dd1c10f4d4b"
      },
      "execution_count": null,
      "outputs": [
        {
          "output_type": "stream",
          "name": "stdout",
          "text": [
            "el amor es el moto del mundo\n"
          ]
        }
      ]
    },
    {
      "cell_type": "code",
      "source": [
        "print(nombre)"
      ],
      "metadata": {
        "colab": {
          "base_uri": "https://localhost:8080/"
        },
        "id": "XSHs1URckNJs",
        "outputId": "b2eb92ff-12c9-45cf-bcaf-d83f2a0ad77a"
      },
      "execution_count": null,
      "outputs": [
        {
          "output_type": "stream",
          "name": "stdout",
          "text": [
            "kevin\n"
          ]
        }
      ]
    },
    {
      "cell_type": "code",
      "source": [
        "carrera=\"economia\"\n"
      ],
      "metadata": {
        "id": "ggqwlmo1m11K"
      },
      "execution_count": null,
      "outputs": []
    },
    {
      "cell_type": "code",
      "source": [
        "#fórmula de la gratificación\n",
        "remuneración=1200\n",
        "computable= 6\n",
        "laborado= 4\n",
        "#porcentaje de sueldo=(9/100*1200)\n",
        "porc=9\n",
        "num=1200\n",
        "result= porc*num/100\n",
        "total=remuneración/computable*laborado+result\n",
        "print(total)\n",
        "print(\"la gratificación total será\", total)"
      ],
      "metadata": {
        "colab": {
          "base_uri": "https://localhost:8080/"
        },
        "id": "7_uiLNMSrQ2p",
        "outputId": "252a2631-6999-434f-9664-161c601c69b2"
      },
      "execution_count": null,
      "outputs": [
        {
          "output_type": "stream",
          "name": "stdout",
          "text": [
            "908.0\n",
            "la gratificación total será 908.0\n"
          ]
        }
      ]
    },
    {
      "cell_type": "code",
      "source": [
        "laborado=6\n",
        "computable=4\n",
        "total=laborado+computable\n",
        "print(total)\n",
        "print(9/100*1200)"
      ],
      "metadata": {
        "colab": {
          "base_uri": "https://localhost:8080/"
        },
        "id": "uuuAheNIyvp0",
        "outputId": "d217f2f3-5726-463e-9885-ebecd4095514"
      },
      "execution_count": null,
      "outputs": [
        {
          "output_type": "stream",
          "name": "stdout",
          "text": [
            "10\n",
            "108.0\n"
          ]
        }
      ]
    },
    {
      "cell_type": "code",
      "source": [
        "print(\"basico\")\n",
        "print(\"1 + 1 =\", 1 + 1)\n",
        "print(\"2 + 4 =\", 2 + 4)\n",
        "print(\"5 - 2 =\", 5 - 2)\n",
        "print()\n",
        "print(\"medio\")\n",
        "print(\"243 - 23 =\", 243 - 23)\n",
        "print(\"12 * 4 =\", 12 * 4)\n",
        "print(\"12 / 3 =\", 12 / 3)\n",
        "print(\"13 / 3 =\", 13 // 3, \"R\", 13 % 3)\n",
        "print()\n",
        "print(\"avanzado\")\n",
        "print(\"123.56 - 62.12 =\", 123.56 - 62.12)\n",
        "print(\"(4 + 3) * 2 =\", (4 + 3) * 2)\n",
        "print(\"4 + 3 * 2 =\", 4 + 3 * 2)\n",
        "print(\"3 ** 2 =\", 3 ** 2)"
      ],
      "metadata": {
        "colab": {
          "base_uri": "https://localhost:8080/"
        },
        "id": "p32aN08ztDwz",
        "outputId": "53603a76-e620-4bf3-deee-77bb18aeaad0"
      },
      "execution_count": null,
      "outputs": [
        {
          "output_type": "stream",
          "name": "stdout",
          "text": [
            "basico\n",
            "1 + 1 = 2\n",
            "2 + 4 = 6\n",
            "5 - 2 = 3\n",
            "\n",
            "medio\n",
            "243 - 23 = 220\n",
            "12 * 4 = 48\n",
            "12 / 3 = 4.0\n",
            "13 / 3 = 4 R 1\n",
            "\n",
            "avanzado\n",
            "123.56 - 62.12 = 61.440000000000005\n",
            "(4 + 3) * 2 = 14\n",
            "4 + 3 * 2 = 10\n",
            "3 ** 2 = 9\n"
          ]
        }
      ]
    },
    {
      "cell_type": "code",
      "source": [
        "x=6\n",
        "x=x+2\n",
        "print(x)"
      ],
      "metadata": {
        "colab": {
          "base_uri": "https://localhost:8080/"
        },
        "id": "L1c4hQWpuFMV",
        "outputId": "10cde628-1357-455f-9f9f-973c2987ddd1"
      },
      "execution_count": null,
      "outputs": [
        {
          "output_type": "stream",
          "name": "stdout",
          "text": [
            "8\n"
          ]
        }
      ]
    },
    {
      "cell_type": "code",
      "source": [
        "notas=(10,11,13,15,17)"
      ],
      "metadata": {
        "id": "ZvCycjfRwO1R"
      },
      "execution_count": null,
      "outputs": []
    },
    {
      "cell_type": "code",
      "source": [
        "pais=input(\"...... el pais_que_quiero conocer......\")\n",
        "cuando=input(\"......_voy_a_conocerlo en......\")\n",
        "#funcion potencia\n",
        "print(\"hola Kevin vas a conocer \"+pais+\", en:\"+cuando)"
      ],
      "metadata": {
        "colab": {
          "base_uri": "https://localhost:8080/"
        },
        "id": "4LW23AK54sUl",
        "outputId": "5568e05e-2a34-42a5-cc7e-04525ce18f0d"
      },
      "execution_count": null,
      "outputs": [
        {
          "output_type": "stream",
          "name": "stdout",
          "text": [
            "...... el pais_que_quiero conocer......China\n",
            "......_voy_a_conocerlo en......cinco años\n",
            "hola Kevin vas a conocer China, en:cinco años\n"
          ]
        }
      ]
    },
    {
      "cell_type": "code",
      "source": [],
      "metadata": {
        "id": "T8WKX1xwNzxP"
      },
      "execution_count": null,
      "outputs": []
    },
    {
      "cell_type": "code",
      "source": [
        "a=281759\n",
        "print(a)"
      ],
      "metadata": {
        "colab": {
          "base_uri": "https://localhost:8080/"
        },
        "id": "SGKYiYfsN8np",
        "outputId": "9dedca61-8fc1-40c0-f1bf-894b329240fd"
      },
      "execution_count": null,
      "outputs": [
        {
          "output_type": "stream",
          "name": "stdout",
          "text": [
            "281759\n"
          ]
        }
      ]
    },
    {
      "cell_type": "code",
      "source": [
        "sueldo=5000\n",
        "mensualidad_de_la_casa=1200\n",
        "pago=1700\n",
        "ahorro=sueldo-mensualidad_de_la_casa-pago\n",
        "print(ahorro)"
      ],
      "metadata": {
        "colab": {
          "base_uri": "https://localhost:8080/"
        },
        "id": "cJ_igAuloKWr",
        "outputId": "24d9cd68-d515-4647-b88b-2bf749c34718"
      },
      "execution_count": null,
      "outputs": [
        {
          "output_type": "stream",
          "name": "stdout",
          "text": [
            "2100\n"
          ]
        }
      ]
    },
    {
      "cell_type": "code",
      "source": [
        "#concatenación de lista\n",
        "x=[1,2]\n",
        "y=[5,9]\n",
        "x+y\n",
        "x=[1,3]\n",
        "y=[5,9]\n",
        "x+y"
      ],
      "metadata": {
        "colab": {
          "base_uri": "https://localhost:8080/"
        },
        "id": "KubW3pXuqfig",
        "outputId": "5c1c2d7f-86ee-42e5-b781-6a902beffac0"
      },
      "execution_count": null,
      "outputs": [
        {
          "output_type": "execute_result",
          "data": {
            "text/plain": [
              "[1, 3, 5, 9]"
            ]
          },
          "metadata": {},
          "execution_count": 7
        }
      ]
    },
    {
      "cell_type": "code",
      "source": [
        "#concatenación de lista\n",
        "x=[1,2]\n",
        "y=[5,9]\n",
        "x+y\n",
        "x=[1,3]\n",
        "y=[5,9]\n",
        "x+y"
      ],
      "metadata": {
        "id": "wN_WW5AKs43j"
      },
      "execution_count": null,
      "outputs": []
    },
    {
      "cell_type": "code",
      "source": [
        "#concatenación de lista\n",
        "x=(1,2)\n",
        "y=(5,9)\n",
        "x+y\n",
        "x=(1,4)\n",
        "y=(5,9)\n",
        "x+y\n"
      ],
      "metadata": {
        "colab": {
          "base_uri": "https://localhost:8080/"
        },
        "id": "FWHr4HCvskaQ",
        "outputId": "955aa0bf-9033-4a76-bde4-8fa7717ff569"
      },
      "execution_count": null,
      "outputs": [
        {
          "output_type": "execute_result",
          "data": {
            "text/plain": [
              "(1, 4, 5, 9)"
            ]
          },
          "metadata": {},
          "execution_count": 8
        }
      ]
    },
    {
      "cell_type": "code",
      "source": [],
      "metadata": {
        "id": "RcZYEwHUvNxk"
      },
      "execution_count": null,
      "outputs": []
    },
    {
      "cell_type": "code",
      "source": [
        "nombre=\"x\"\n",
        "pago_por_horas=\"y\"\n",
        "sueldo=nombre*pago_por_horas\n",
        "print(sueldo)\n",
        "#no funciona, porque no lee texto\n"
      ],
      "metadata": {
        "colab": {
          "base_uri": "https://localhost:8080/",
          "height": 237
        },
        "id": "W3Z4c3rnvzyC",
        "outputId": "9132a773-3297-4e7a-f923-2f5cf320bb53"
      },
      "execution_count": null,
      "outputs": [
        {
          "output_type": "error",
          "ename": "TypeError",
          "evalue": "can't multiply sequence by non-int of type 'str'",
          "traceback": [
            "\u001b[0;31m---------------------------------------------------------------------------\u001b[0m",
            "\u001b[0;31mTypeError\u001b[0m                                 Traceback (most recent call last)",
            "\u001b[0;32m<ipython-input-10-c0ed35b092aa>\u001b[0m in \u001b[0;36m<cell line: 3>\u001b[0;34m()\u001b[0m\n\u001b[1;32m      1\u001b[0m \u001b[0mnombre\u001b[0m\u001b[0;34m=\u001b[0m\u001b[0;34m\"x\"\u001b[0m\u001b[0;34m\u001b[0m\u001b[0;34m\u001b[0m\u001b[0m\n\u001b[1;32m      2\u001b[0m \u001b[0mpago_por_horas\u001b[0m\u001b[0;34m=\u001b[0m\u001b[0;34m\"y\"\u001b[0m\u001b[0;34m\u001b[0m\u001b[0;34m\u001b[0m\u001b[0m\n\u001b[0;32m----> 3\u001b[0;31m \u001b[0msueldo\u001b[0m\u001b[0;34m=\u001b[0m\u001b[0mnombre\u001b[0m\u001b[0;34m*\u001b[0m\u001b[0mpago_por_horas\u001b[0m\u001b[0;34m\u001b[0m\u001b[0;34m\u001b[0m\u001b[0m\n\u001b[0m\u001b[1;32m      4\u001b[0m \u001b[0mprint\u001b[0m\u001b[0;34m(\u001b[0m\u001b[0msueldo\u001b[0m\u001b[0;34m)\u001b[0m\u001b[0;34m\u001b[0m\u001b[0;34m\u001b[0m\u001b[0m\n",
            "\u001b[0;31mTypeError\u001b[0m: can't multiply sequence by non-int of type 'str'"
          ]
        }
      ]
    },
    {
      "cell_type": "code",
      "source": [
        "horas=\"x\"\n",
        "pago_por_horas=\"y\"\n",
        "#concatenar texto\n",
        "sueldo=horas+\"*\"+\"y\"\n",
        "print(sueldo)"
      ],
      "metadata": {
        "colab": {
          "base_uri": "https://localhost:8080/"
        },
        "id": "bedfNYF7xYU2",
        "outputId": "2b79d2e7-f6ab-488a-8792-016406e9e30d"
      },
      "execution_count": null,
      "outputs": [
        {
          "output_type": "stream",
          "name": "stdout",
          "text": [
            "x*y\n"
          ]
        }
      ]
    },
    {
      "cell_type": "code",
      "source": [
        "horas=\"x\"\n",
        "pago_por_horas=\"y\"\n",
        "#multiplicar texto varias veces\n",
        "muchas_y=10*\"y\"\n",
        "print(muchas_y)\n"
      ],
      "metadata": {
        "colab": {
          "base_uri": "https://localhost:8080/"
        },
        "id": "wwzidwcrycZp",
        "outputId": "b1ecd867-a7c6-4306-be65-1b07744361f4"
      },
      "execution_count": null,
      "outputs": [
        {
          "output_type": "stream",
          "name": "stdout",
          "text": [
            "yyyyyyyyyy\n"
          ]
        }
      ]
    },
    {
      "cell_type": "code",
      "source": [
        "x=5\n",
        "x=x+1\n",
        "print(x)"
      ],
      "metadata": {
        "colab": {
          "base_uri": "https://localhost:8080/"
        },
        "id": "2MbZxFG502Pw",
        "outputId": "e796c7f7-e97b-453d-de88-1e1205e7dbe8"
      },
      "execution_count": null,
      "outputs": [
        {
          "output_type": "stream",
          "name": "stdout",
          "text": [
            "6\n"
          ]
        }
      ]
    },
    {
      "cell_type": "code",
      "source": [
        "y=5\n",
        "y=y+1\n",
        "print(x)"
      ],
      "metadata": {
        "colab": {
          "base_uri": "https://localhost:8080/"
        },
        "id": "jXct8tG91eQs",
        "outputId": "66728cb4-1fad-4cbd-eb50-f45d49343cd1"
      },
      "execution_count": null,
      "outputs": [
        {
          "output_type": "stream",
          "name": "stdout",
          "text": [
            "6\n"
          ]
        }
      ]
    },
    {
      "cell_type": "code",
      "source": [
        "pago_por_horas=\n",
        "horas="
      ],
      "metadata": {
        "id": "Oiln817evXK4"
      },
      "execution_count": null,
      "outputs": []
    },
    {
      "cell_type": "code",
      "source": [
        "edad1=10\n",
        "edad2=12\n",
        "edad3=14\n",
        "print(edad1,edad2,edad3)"
      ],
      "metadata": {
        "colab": {
          "base_uri": "https://localhost:8080/"
        },
        "id": "rXusZDcVzkW4",
        "outputId": "3cd966c7-83c0-4988-adde-31b86ba0f106"
      },
      "execution_count": null,
      "outputs": [
        {
          "output_type": "stream",
          "name": "stdout",
          "text": [
            "10 12 14\n"
          ]
        }
      ]
    },
    {
      "cell_type": "code",
      "source": [
        "edades=(10,12,14)\n",
        "doble_edades=2*edades\n",
        "print(doble_edades)\n",
        "print(edades)\n",
        "#valor maximo\n",
        "maximo=max(edades)\n",
        "print(maximo)\n"
      ],
      "metadata": {
        "colab": {
          "base_uri": "https://localhost:8080/"
        },
        "id": "HT4TZidtz-OY",
        "outputId": "cb9cb072-36d6-42ea-f634-09093fc3d4c2"
      },
      "execution_count": null,
      "outputs": [
        {
          "output_type": "stream",
          "name": "stdout",
          "text": [
            "(10, 12, 14, 10, 12, 14)\n",
            "(10, 12, 14)\n",
            "14\n"
          ]
        }
      ]
    },
    {
      "cell_type": "code",
      "source": [
        "#sacar el valor de tuplas y listas\n",
        "edades=(10,12,14)\n",
        "edades[2]\n",
        "edades=[17,16,14]\n",
        "edades[0]"
      ],
      "metadata": {
        "colab": {
          "base_uri": "https://localhost:8080/"
        },
        "id": "iUMxqoBB1R_p",
        "outputId": "5263668e-edf8-4188-8dff-2c4eabb8bb59"
      },
      "execution_count": null,
      "outputs": [
        {
          "output_type": "execute_result",
          "data": {
            "text/plain": [
              "17"
            ]
          },
          "metadata": {},
          "execution_count": 8
        }
      ]
    },
    {
      "cell_type": "code",
      "source": [
        "cursos=(\"a\",\"b\",\"c\",\"d\",\"e\",\"f\",\"g\",\"h\")\n",
        "#el primero, segundo y tercero\n",
        "cursos[0:3]"
      ],
      "metadata": {
        "colab": {
          "base_uri": "https://localhost:8080/",
          "height": 36
        },
        "id": "eJ6TGdmI9wK6",
        "outputId": "535beeb6-01da-4973-fd1d-91fb1981cb82"
      },
      "execution_count": null,
      "outputs": [
        {
          "output_type": "execute_result",
          "data": {
            "text/plain": [
              "'d'"
            ],
            "application/vnd.google.colaboratory.intrinsic+json": {
              "type": "string"
            }
          },
          "metadata": {},
          "execution_count": 11
        }
      ]
    },
    {
      "cell_type": "code",
      "source": [
        "rutinas=(20,30,50,30,15,25)\n",
        "print(rutinas[0])\n",
        "print(rutinas)\n",
        "rutinas[0]=21\n",
        "print(rutinas)"
      ],
      "metadata": {
        "colab": {
          "base_uri": "https://localhost:8080/",
          "height": 274
        },
        "id": "wch_pBtv_Kt_",
        "outputId": "f1dc9cf9-8b49-46eb-b880-2a6a611ac11f"
      },
      "execution_count": null,
      "outputs": [
        {
          "output_type": "stream",
          "name": "stdout",
          "text": [
            "20\n",
            "(20, 30, 50, 30, 15, 25)\n"
          ]
        },
        {
          "output_type": "error",
          "ename": "TypeError",
          "evalue": "'tuple' object does not support item assignment",
          "traceback": [
            "\u001b[0;31m---------------------------------------------------------------------------\u001b[0m",
            "\u001b[0;31mTypeError\u001b[0m                                 Traceback (most recent call last)",
            "\u001b[0;32m<ipython-input-17-fb56a148f912>\u001b[0m in \u001b[0;36m<cell line: 4>\u001b[0;34m()\u001b[0m\n\u001b[1;32m      2\u001b[0m \u001b[0mprint\u001b[0m\u001b[0;34m(\u001b[0m\u001b[0mrutinas\u001b[0m\u001b[0;34m[\u001b[0m\u001b[0;36m0\u001b[0m\u001b[0;34m]\u001b[0m\u001b[0;34m)\u001b[0m\u001b[0;34m\u001b[0m\u001b[0;34m\u001b[0m\u001b[0m\n\u001b[1;32m      3\u001b[0m \u001b[0mprint\u001b[0m\u001b[0;34m(\u001b[0m\u001b[0mrutinas\u001b[0m\u001b[0;34m)\u001b[0m\u001b[0;34m\u001b[0m\u001b[0;34m\u001b[0m\u001b[0m\n\u001b[0;32m----> 4\u001b[0;31m \u001b[0mrutinas\u001b[0m\u001b[0;34m[\u001b[0m\u001b[0;36m0\u001b[0m\u001b[0;34m]\u001b[0m\u001b[0;34m=\u001b[0m\u001b[0;36m21\u001b[0m\u001b[0;34m\u001b[0m\u001b[0;34m\u001b[0m\u001b[0m\n\u001b[0m\u001b[1;32m      5\u001b[0m \u001b[0mprint\u001b[0m\u001b[0;34m(\u001b[0m\u001b[0mrutinas\u001b[0m\u001b[0;34m)\u001b[0m\u001b[0;34m\u001b[0m\u001b[0;34m\u001b[0m\u001b[0m\n",
            "\u001b[0;31mTypeError\u001b[0m: 'tuple' object does not support item assignment"
          ]
        }
      ]
    },
    {
      "cell_type": "code",
      "source": [
        "rutinas=[20,30,50,30,15,25]\n",
        "print(rutinas[0])\n",
        "print(rutinas)\n",
        "rutinas[0]=21\n",
        "print(rutinas)\n",
        "rutinas[0]=rutinas[0]*2\n",
        "print(rutinas)"
      ],
      "metadata": {
        "colab": {
          "base_uri": "https://localhost:8080/"
        },
        "id": "4_ZwhB46ATQO",
        "outputId": "100b5749-0e0b-48f6-8f4f-e1c3092830e1"
      },
      "execution_count": null,
      "outputs": [
        {
          "output_type": "stream",
          "name": "stdout",
          "text": [
            "20\n",
            "[20, 30, 50, 30, 15, 25]\n",
            "[21, 30, 50, 30, 15, 25]\n",
            "[42, 30, 50, 30, 15, 25]\n"
          ]
        }
      ]
    },
    {
      "cell_type": "code",
      "source": [
        "type(8)"
      ],
      "metadata": {
        "colab": {
          "base_uri": "https://localhost:8080/"
        },
        "id": "WJlYTRUDDl6F",
        "outputId": "aba8960b-f1ef-4a79-c048-086babf4e571"
      },
      "execution_count": null,
      "outputs": [
        {
          "output_type": "execute_result",
          "data": {
            "text/plain": [
              "int"
            ]
          },
          "metadata": {},
          "execution_count": 20
        }
      ]
    },
    {
      "cell_type": "code",
      "source": [
        "name=input(\".....tu apellido es.....\")\n",
        "edad=input(\"..........tu edad es......\")\n",
        "#función potencia\n",
        "print(\"hola \"+name+\",tu edad es \"+edad)"
      ],
      "metadata": {
        "colab": {
          "base_uri": "https://localhost:8080/"
        },
        "id": "Gsl5BNZzEX3X",
        "outputId": "5091e51b-02c4-4dd8-e0bb-c4e39cc5efa0"
      },
      "execution_count": null,
      "outputs": [
        {
          "output_type": "stream",
          "name": "stdout",
          "text": [
            ".....tu apellido es.....jaimito el cartero\n",
            "..........tu edad es......24\n",
            "hola jaimito el cartero,tu edad es 24\n"
          ]
        }
      ]
    },
    {
      "cell_type": "code",
      "source": [],
      "metadata": {
        "id": "lZO-uDUNFrV6"
      },
      "execution_count": null,
      "outputs": []
    },
    {
      "cell_type": "code",
      "source": [
        "name=input(\"mi nombre es\")\n",
        "hobbies=input(\"mis hobbies son\")\n",
        "signo_del_zodiaco=input(\"mi signo del zodiaco es\")\n",
        "mi_meta_en_2024=input(\"mi meta en este 2024 es\")\n",
        "frase_favorita_de_Dombledore=input(\"mis frase favorita de Dombledore es\")\n",
        "frase_favorita_de_Gandalf=input(\"mis frase favorita de Gandalf es\")\n",
        "#función potencia\n",
        "print(\"hola \"+name+\", mis hobbies son \"+hobbies+\", mi signo del zodiaco es \"+signo_del_zodiaco+\", y mi meta en este 2024 es\"+mi_meta_en_2024+\", mi frase favorita de Dombledore\"+frase_favorita_de_Dombledore+\",2 mi frase favorita de Gandalf es\"+frase_favorita_de_Gandalf)"
      ],
      "metadata": {
        "colab": {
          "base_uri": "https://localhost:8080/"
        },
        "id": "X6eMr1h_P4hB",
        "outputId": "41a2a964-1f2a-4070-df90-a414e99129a2"
      },
      "execution_count": null,
      "outputs": [
        {
          "output_type": "stream",
          "name": "stdout",
          "text": [
            "mi nombre es Kevin\n",
            "mis hobbies son ver documentales, escuchar historias de terror, leer y jugar\n",
            "mi signo del zodiaco es acuario\n",
            "mi meta en este 2024 es encontrar chamba\n",
            "mis frase favorita de Dombledore es Igual que tu madre desbordas gentileza, un rasgo que las personas siempre subestiman me temo\n",
            "mis frase favorita de Gandalf es Como quisiera que nada hubiese sucedido. Igual que todos los que viven eventos dificiles, pero ellos no lo pueden decidir. La unica decision posible es decidir que hacer con el tiempo que tenemos\n",
            "hola  Kevin, mis hobbies son  ver documentales, escuchar historias de terror, leer y jugar, mi signo del zodiaco es  acuario, y mi meta en este 2024 es encontrar chamba, mi frase favorita de Dombledore Igual que tu madre desbordas gentileza, un rasgo que las personas siempre subestiman me temo,2 mi frase favorita de Gandalf es Como quisiera que nada hubiese sucedido. Igual que todos los que viven eventos dificiles, pero ellos no lo pueden decidir. La unica decision posible es decidir que hacer con el tiempo que tenemos\n"
          ]
        }
      ]
    },
    {
      "cell_type": "code",
      "source": [],
      "metadata": {
        "id": "kc9oSvaJN76N"
      },
      "execution_count": null,
      "outputs": []
    }
  ]
}