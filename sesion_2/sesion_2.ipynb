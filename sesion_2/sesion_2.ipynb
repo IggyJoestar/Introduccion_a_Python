{
  "nbformat": 4,
  "nbformat_minor": 0,
  "metadata": {
    "colab": {
      "provenance": []
    },
    "kernelspec": {
      "name": "python3",
      "display_name": "Python 3"
    },
    "language_info": {
      "name": "python"
    }
  },
  "cells": [
    {
      "cell_type": "code",
      "execution_count": null,
      "metadata": {
        "colab": {
          "base_uri": "https://localhost:8080/"
        },
        "id": "hIhvZ6Hpq8UE",
        "outputId": "934405a9-142e-441e-a21d-8751dacf4c07"
      },
      "outputs": [
        {
          "output_type": "stream",
          "name": "stdout",
          "text": [
            "5\n",
            "6\n"
          ]
        }
      ],
      "source": [
        "a=5\n",
        "print(a)\n",
        "a=6\n",
        "print(a)"
      ]
    },
    {
      "cell_type": "code",
      "source": [
        "horas=\"x\"\n",
        "pago_por_hora=\"y\"\n",
        "#sueldo=pago_por_hora*horas\n",
        "#concatenar: sumar texto\n",
        "sueldo=horas+\"*\"+\"y\"\n",
        "# multiplicar texto\n",
        "muchas_x=50*\"x\"\n",
        "print(muchas_x)"
      ],
      "metadata": {
        "colab": {
          "base_uri": "https://localhost:8080/"
        },
        "id": "BLT7yECnrkIo",
        "outputId": "795df4d4-f834-4186-f43c-5fd90b90ee45"
      },
      "execution_count": null,
      "outputs": [
        {
          "output_type": "stream",
          "name": "stdout",
          "text": [
            "xxxxxxxxxxxxxxxxxxxxxxxxxxxxxxxxxxxxxxxxxxxxxxxxxx\n"
          ]
        }
      ]
    },
    {
      "cell_type": "code",
      "source": [
        "x=5\n",
        "x=x+2\n",
        "print(x)"
      ],
      "metadata": {
        "colab": {
          "base_uri": "https://localhost:8080/"
        },
        "id": "gS9-ZP_fty0Q",
        "outputId": "0ad72613-30e9-4e31-81df-0c5747ce5151"
      },
      "execution_count": null,
      "outputs": [
        {
          "output_type": "stream",
          "name": "stdout",
          "text": [
            "7\n"
          ]
        }
      ]
    },
    {
      "cell_type": "code",
      "source": [
        "edad_1=15\n",
        "edad_2=13\n",
        "edad_3=20\n",
        "print(edad_1, edad_2, edad_3)"
      ],
      "metadata": {
        "colab": {
          "base_uri": "https://localhost:8080/"
        },
        "id": "ma3ITgcXvEhM",
        "outputId": "73009b40-ec3b-432b-9272-b3b1c4c945c2"
      },
      "execution_count": null,
      "outputs": [
        {
          "output_type": "stream",
          "name": "stdout",
          "text": [
            "15 13 20\n"
          ]
        }
      ]
    },
    {
      "cell_type": "code",
      "source": [
        "#muestra\n",
        "edades=(15,13,20,25,1,28)\n",
        "print(edades)\n",
        "#valor maximo\n",
        "maximo= max(edades)\n",
        "print(maximo)"
      ],
      "metadata": {
        "colab": {
          "base_uri": "https://localhost:8080/"
        },
        "id": "ibVp5bcrvhe3",
        "outputId": "e19996ce-dc19-4844-df38-28ed8b503e55"
      },
      "execution_count": null,
      "outputs": [
        {
          "output_type": "stream",
          "name": "stdout",
          "text": [
            "(15, 13, 20, 25, 1, 28)\n",
            "28\n"
          ]
        }
      ]
    },
    {
      "cell_type": "code",
      "source": [
        "#muestra\n",
        "edades=[15,13,20,25,14,28]\n",
        "#primer elemento\n",
        "edades[0]"
      ],
      "metadata": {
        "colab": {
          "base_uri": "https://localhost:8080/"
        },
        "id": "SZ04ZqeGwwGI",
        "outputId": "3fb3b9f3-a427-4c89-d0cf-1a57f51f860c"
      },
      "execution_count": null,
      "outputs": [
        {
          "output_type": "execute_result",
          "data": {
            "text/plain": [
              "15"
            ]
          },
          "metadata": {},
          "execution_count": 27
        }
      ]
    },
    {
      "cell_type": "code",
      "source": [
        "#cursos\n",
        "curso=(\"mate\",\"filo\",\"musica\",\"economia\",\"f\",\"g\",\"y\",\"h\",\"h\",\"finanzas\")\n",
        "#ultimo elemento\n",
        "print(curso[-1])\n",
        "#el primero, segundo y tercero\n",
        "curso[0:3]\n",
        "curso[2:5]"
      ],
      "metadata": {
        "colab": {
          "base_uri": "https://localhost:8080/"
        },
        "id": "rWw-yczLxAxj",
        "outputId": "f6144c5b-ce11-404f-9887-a792547b963e"
      },
      "execution_count": null,
      "outputs": [
        {
          "output_type": "stream",
          "name": "stdout",
          "text": [
            "finanzas\n"
          ]
        },
        {
          "output_type": "execute_result",
          "data": {
            "text/plain": [
              "('musica', 'economia', 'f')"
            ]
          },
          "metadata": {},
          "execution_count": 36
        }
      ]
    },
    {
      "cell_type": "code",
      "source": [
        "#muestra\n",
        "edades=[15,13,20,25,1,28]\n",
        "#antes\n",
        "print(edades[0])\n",
        "print(edades)\n",
        "edades[0]=edades[0]*2\n",
        "print(edades)\n"
      ],
      "metadata": {
        "colab": {
          "base_uri": "https://localhost:8080/"
        },
        "id": "5d6XKHxc0DN6",
        "outputId": "967ce9b8-5eca-45fe-f314-2694116ad68f"
      },
      "execution_count": null,
      "outputs": [
        {
          "output_type": "stream",
          "name": "stdout",
          "text": [
            "15\n",
            "[15, 13, 20, 25, 1, 28]\n",
            "[30, 13, 20, 25, 1, 28]\n"
          ]
        }
      ]
    },
    {
      "cell_type": "code",
      "source": [
        "#muestra\n",
        "edades=(15,13,20,25,1,28)\n",
        "#antes\n",
        "print(edades[0])\n",
        "print(edades)\n",
        "edades[0]=edades[0]*2\n",
        "print(edades)"
      ],
      "metadata": {
        "colab": {
          "base_uri": "https://localhost:8080/",
          "height": 263
        },
        "id": "0c4ZlGAU03HQ",
        "outputId": "14e90b8c-e921-4180-b311-d4c54a0e2137"
      },
      "execution_count": null,
      "outputs": [
        {
          "output_type": "stream",
          "name": "stdout",
          "text": [
            "15\n",
            "(15, 13, 20, 25, 1, 28)\n"
          ]
        },
        {
          "output_type": "error",
          "ename": "TypeError",
          "evalue": "'tuple' object does not support item assignment",
          "traceback": [
            "\u001b[0;31m---------------------------------------------------------------------------\u001b[0m",
            "\u001b[0;31mTypeError\u001b[0m                                 Traceback (most recent call last)",
            "\u001b[0;32m<ipython-input-43-d8864b102c80>\u001b[0m in \u001b[0;36m<cell line: 6>\u001b[0;34m()\u001b[0m\n\u001b[1;32m      4\u001b[0m \u001b[0mprint\u001b[0m\u001b[0;34m(\u001b[0m\u001b[0medades\u001b[0m\u001b[0;34m[\u001b[0m\u001b[0;36m0\u001b[0m\u001b[0;34m]\u001b[0m\u001b[0;34m)\u001b[0m\u001b[0;34m\u001b[0m\u001b[0;34m\u001b[0m\u001b[0m\n\u001b[1;32m      5\u001b[0m \u001b[0mprint\u001b[0m\u001b[0;34m(\u001b[0m\u001b[0medades\u001b[0m\u001b[0;34m)\u001b[0m\u001b[0;34m\u001b[0m\u001b[0;34m\u001b[0m\u001b[0m\n\u001b[0;32m----> 6\u001b[0;31m \u001b[0medades\u001b[0m\u001b[0;34m[\u001b[0m\u001b[0;36m0\u001b[0m\u001b[0;34m]\u001b[0m\u001b[0;34m=\u001b[0m\u001b[0medades\u001b[0m\u001b[0;34m[\u001b[0m\u001b[0;36m0\u001b[0m\u001b[0;34m]\u001b[0m\u001b[0;34m*\u001b[0m\u001b[0;36m2\u001b[0m\u001b[0;34m\u001b[0m\u001b[0;34m\u001b[0m\u001b[0m\n\u001b[0m\u001b[1;32m      7\u001b[0m \u001b[0mprint\u001b[0m\u001b[0;34m(\u001b[0m\u001b[0medades\u001b[0m\u001b[0;34m)\u001b[0m\u001b[0;34m\u001b[0m\u001b[0;34m\u001b[0m\u001b[0m\n",
            "\u001b[0;31mTypeError\u001b[0m: 'tuple' object does not support item assignment"
          ]
        }
      ]
    },
    {
      "cell_type": "code",
      "source": [
        "#Reconocer el tipo\n",
        "type(52.36)\n",
        "\n",
        "type([1,2,3])\n"
      ],
      "metadata": {
        "colab": {
          "base_uri": "https://localhost:8080/"
        },
        "id": "CwTc5a9k1CNd",
        "outputId": "d1c10a8d-d3d6-48b4-f27a-bbb2eaf70b47"
      },
      "execution_count": null,
      "outputs": [
        {
          "output_type": "execute_result",
          "data": {
            "text/plain": [
              "list"
            ]
          },
          "metadata": {},
          "execution_count": 80
        }
      ]
    },
    {
      "cell_type": "code",
      "source": [
        "#convertir tipos de datos\n",
        "numero=float(\"2.5\")\n",
        "print(numero)\n",
        "texto=str(52.3)\n",
        "print(texto)\n",
        "\n",
        "tupla_1=(1,2,\"35\",47)\n",
        "lista_nueva=list(tupla_1)\n",
        "print(lista_nueva)"
      ],
      "metadata": {
        "colab": {
          "base_uri": "https://localhost:8080/"
        },
        "id": "py6LysxH_stK",
        "outputId": "562f1e16-64b6-47dd-a210-b6537fb09f50"
      },
      "execution_count": null,
      "outputs": [
        {
          "output_type": "stream",
          "name": "stdout",
          "text": [
            "2.5\n",
            "52.3\n",
            "[1, 2, '35', 47]\n"
          ]
        }
      ]
    },
    {
      "cell_type": "code",
      "source": [
        "name=input(\"------Dime tu nombre-------\")\n",
        "edad=input(\".......Cual es tu edad-------\")\n",
        "#función potencia\n",
        "print(\"hola \"+name+\", tu edad es:\"+edad)"
      ],
      "metadata": {
        "colab": {
          "base_uri": "https://localhost:8080/"
        },
        "id": "P72zE4LD2yAk",
        "outputId": "8be811a1-b03a-46d4-913f-4bdd71b84f05"
      },
      "execution_count": null,
      "outputs": [
        {
          "output_type": "stream",
          "name": "stdout",
          "text": [
            "------Dime tu nombre-------Abraham\n",
            ".......Cual es tu edad-------21\n",
            "hola Abraham, tu edad es:21\n"
          ]
        }
      ]
    },
    {
      "cell_type": "code",
      "source": [
        "name=input(\"------Dime tu nombre-------\")\n",
        "edad=input(\".......Cual es tu edad-------\")\n",
        "#función potencia\n",
        "print(\"hola \"+name+\", tu edad es:\"+edad)"
      ],
      "metadata": {
        "colab": {
          "base_uri": "https://localhost:8080/"
        },
        "id": "9eNb686z4bZE",
        "outputId": "d4c9bff4-06d6-4b39-dae3-03344e376bf5"
      },
      "execution_count": null,
      "outputs": [
        {
          "output_type": "stream",
          "name": "stdout",
          "text": [
            "------Dime tu nombre-------Jonathan\n",
            ".......Cual es tu edad-------23\n",
            "hola Jonathan, tu edad es:23\n"
          ]
        }
      ]
    },
    {
      "cell_type": "code",
      "source": [
        "#función potencia\n",
        "numero=float(input(\"cual es tu número:\"))\n",
        "exponente=float(input(\"cual es el exponente:\"))\n",
        "resultado=numero**exponente\n",
        "print(\"La respuesta es\", resultado)"
      ],
      "metadata": {
        "id": "-kK1FVVB5pyr",
        "colab": {
          "base_uri": "https://localhost:8080/"
        },
        "outputId": "061bc53c-122b-4364-f07c-60a1c89bbb64"
      },
      "execution_count": null,
      "outputs": [
        {
          "output_type": "stream",
          "name": "stdout",
          "text": [
            "cual es tu número:9\n",
            "cual es el exponente:0.5\n",
            "La respuesta es 3.0\n"
          ]
        }
      ]
    },
    {
      "cell_type": "code",
      "source": [],
      "metadata": {
        "id": "CtlUIQhbK3Ha"
      },
      "execution_count": null,
      "outputs": []
    }
  ]
}