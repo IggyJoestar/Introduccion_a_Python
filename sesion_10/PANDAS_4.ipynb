{
  "nbformat": 4,
  "nbformat_minor": 0,
  "metadata": {
    "colab": {
      "provenance": []
    },
    "kernelspec": {
      "name": "python3",
      "display_name": "Python 3"
    },
    "language_info": {
      "name": "python"
    }
  },
  "cells": [
    {
      "cell_type": "code",
      "execution_count": null,
      "metadata": {
        "id": "ZE-eP1VufTsF"
      },
      "outputs": [],
      "source": [
        "import pandas as pd\n",
        "import numpy as np\n",
        "\n",
        "base_1=pd.read_csv('/content/hogares.csv')\n",
        "base_2=pd.read_csv('/content/ingresos.csv')\n"
      ]
    },
    {
      "cell_type": "markdown",
      "source": [
        "## 1. Emparejando el módulo de ingresos y de características del hogar con *merge*."
      ],
      "metadata": {
        "id": "zFOWk8Nxf7fU"
      }
    },
    {
      "cell_type": "code",
      "source": [
        "base_3=pd.merge(base_1, base_2, how='inner', on=['folioviv', 'foliohog'])"
      ],
      "metadata": {
        "id": "wy-S53BAgPYA"
      },
      "execution_count": null,
      "outputs": []
    },
    {
      "cell_type": "code",
      "source": [
        "base_3"
      ],
      "metadata": {
        "colab": {
          "base_uri": "https://localhost:8080/",
          "height": 443
        },
        "id": "fVlB3aPZhdqR",
        "outputId": "b36968ac-b6e1-4d7e-aab6-08c482cedc9a"
      },
      "execution_count": null,
      "outputs": [
        {
          "output_type": "execute_result",
          "data": {
            "text/plain": [
              "          folioviv  foliohog  huespedes huesp_come  num_trab_d trab_come  \\\n",
              "0        100005002         1          0                      0             \n",
              "1        100005002         1          0                      0             \n",
              "2        100005002         1          0                      0             \n",
              "3        100005002         1          0                      0             \n",
              "4        100005002         1          0                      0             \n",
              "...            ...       ...        ...        ...         ...       ...   \n",
              "397177  3260797908         1          0                      0             \n",
              "397178  3260797909         1          0                      0             \n",
              "397179  3260797910         1          0                      0             \n",
              "397180  3260797912         1          0                      0             \n",
              "397181  3260797912         1          0                      0             \n",
              "\n",
              "        acc_alim1  acc_alim2  acc_alim3  acc_alim4  ...  ing_2  ing_3  ing_4  \\\n",
              "0               2          2          2          2  ...      0   7600      0   \n",
              "1               2          2          2          2  ...  11500  11500  11500   \n",
              "2               2          2          2          2  ...                        \n",
              "3               2          2          2          2  ...      0      0      0   \n",
              "4               2          2          2          2  ...      0      0      0   \n",
              "...           ...        ...        ...        ...  ...    ...    ...    ...   \n",
              "397177          2          2          2          2  ...      0   1000   1600   \n",
              "397178          1          2          2          2  ...   9000   9000   9000   \n",
              "397179          2          2          2          2  ...  43068  48340  48340   \n",
              "397180          2          2          2          2  ...   8400   8400   8100   \n",
              "397181          2          2          2          2  ...   5000   5000   4700   \n",
              "\n",
              "        ing_5  ing_6    ing_tri entidad_y est_dis_y  upm_y factor_y  \n",
              "0           0   7600    7434.78         1         3      1      206  \n",
              "1       11500  11500   33749.99         1         3      1      206  \n",
              "2                       1956.52         1         3      1      206  \n",
              "3           0      0     391.30         1         3      1      206  \n",
              "4        1000      0     978.26         1         3      1      206  \n",
              "...       ...    ...        ...       ...       ...    ...      ...  \n",
              "397177   1000    800    2543.47        32       560  10232      123  \n",
              "397178   9000   9000   26413.04        32       560  10232      123  \n",
              "397179  43068  48340  136709.99        32       560  10232      123  \n",
              "397180   8400   8400   24358.69        32       560  10232      123  \n",
              "397181   5000   5000   14380.43        32       560  10232      123  \n",
              "\n",
              "[397182 rows x 160 columns]"
            ],
            "text/html": [
              "\n",
              "  <div id=\"df-814322ee-078e-4067-9982-a83ca2c84e49\" class=\"colab-df-container\">\n",
              "    <div>\n",
              "<style scoped>\n",
              "    .dataframe tbody tr th:only-of-type {\n",
              "        vertical-align: middle;\n",
              "    }\n",
              "\n",
              "    .dataframe tbody tr th {\n",
              "        vertical-align: top;\n",
              "    }\n",
              "\n",
              "    .dataframe thead th {\n",
              "        text-align: right;\n",
              "    }\n",
              "</style>\n",
              "<table border=\"1\" class=\"dataframe\">\n",
              "  <thead>\n",
              "    <tr style=\"text-align: right;\">\n",
              "      <th></th>\n",
              "      <th>folioviv</th>\n",
              "      <th>foliohog</th>\n",
              "      <th>huespedes</th>\n",
              "      <th>huesp_come</th>\n",
              "      <th>num_trab_d</th>\n",
              "      <th>trab_come</th>\n",
              "      <th>acc_alim1</th>\n",
              "      <th>acc_alim2</th>\n",
              "      <th>acc_alim3</th>\n",
              "      <th>acc_alim4</th>\n",
              "      <th>...</th>\n",
              "      <th>ing_2</th>\n",
              "      <th>ing_3</th>\n",
              "      <th>ing_4</th>\n",
              "      <th>ing_5</th>\n",
              "      <th>ing_6</th>\n",
              "      <th>ing_tri</th>\n",
              "      <th>entidad_y</th>\n",
              "      <th>est_dis_y</th>\n",
              "      <th>upm_y</th>\n",
              "      <th>factor_y</th>\n",
              "    </tr>\n",
              "  </thead>\n",
              "  <tbody>\n",
              "    <tr>\n",
              "      <th>0</th>\n",
              "      <td>100005002</td>\n",
              "      <td>1</td>\n",
              "      <td>0</td>\n",
              "      <td></td>\n",
              "      <td>0</td>\n",
              "      <td></td>\n",
              "      <td>2</td>\n",
              "      <td>2</td>\n",
              "      <td>2</td>\n",
              "      <td>2</td>\n",
              "      <td>...</td>\n",
              "      <td>0</td>\n",
              "      <td>7600</td>\n",
              "      <td>0</td>\n",
              "      <td>0</td>\n",
              "      <td>7600</td>\n",
              "      <td>7434.78</td>\n",
              "      <td>1</td>\n",
              "      <td>3</td>\n",
              "      <td>1</td>\n",
              "      <td>206</td>\n",
              "    </tr>\n",
              "    <tr>\n",
              "      <th>1</th>\n",
              "      <td>100005002</td>\n",
              "      <td>1</td>\n",
              "      <td>0</td>\n",
              "      <td></td>\n",
              "      <td>0</td>\n",
              "      <td></td>\n",
              "      <td>2</td>\n",
              "      <td>2</td>\n",
              "      <td>2</td>\n",
              "      <td>2</td>\n",
              "      <td>...</td>\n",
              "      <td>11500</td>\n",
              "      <td>11500</td>\n",
              "      <td>11500</td>\n",
              "      <td>11500</td>\n",
              "      <td>11500</td>\n",
              "      <td>33749.99</td>\n",
              "      <td>1</td>\n",
              "      <td>3</td>\n",
              "      <td>1</td>\n",
              "      <td>206</td>\n",
              "    </tr>\n",
              "    <tr>\n",
              "      <th>2</th>\n",
              "      <td>100005002</td>\n",
              "      <td>1</td>\n",
              "      <td>0</td>\n",
              "      <td></td>\n",
              "      <td>0</td>\n",
              "      <td></td>\n",
              "      <td>2</td>\n",
              "      <td>2</td>\n",
              "      <td>2</td>\n",
              "      <td>2</td>\n",
              "      <td>...</td>\n",
              "      <td></td>\n",
              "      <td></td>\n",
              "      <td></td>\n",
              "      <td></td>\n",
              "      <td></td>\n",
              "      <td>1956.52</td>\n",
              "      <td>1</td>\n",
              "      <td>3</td>\n",
              "      <td>1</td>\n",
              "      <td>206</td>\n",
              "    </tr>\n",
              "    <tr>\n",
              "      <th>3</th>\n",
              "      <td>100005002</td>\n",
              "      <td>1</td>\n",
              "      <td>0</td>\n",
              "      <td></td>\n",
              "      <td>0</td>\n",
              "      <td></td>\n",
              "      <td>2</td>\n",
              "      <td>2</td>\n",
              "      <td>2</td>\n",
              "      <td>2</td>\n",
              "      <td>...</td>\n",
              "      <td>0</td>\n",
              "      <td>0</td>\n",
              "      <td>0</td>\n",
              "      <td>0</td>\n",
              "      <td>0</td>\n",
              "      <td>391.30</td>\n",
              "      <td>1</td>\n",
              "      <td>3</td>\n",
              "      <td>1</td>\n",
              "      <td>206</td>\n",
              "    </tr>\n",
              "    <tr>\n",
              "      <th>4</th>\n",
              "      <td>100005002</td>\n",
              "      <td>1</td>\n",
              "      <td>0</td>\n",
              "      <td></td>\n",
              "      <td>0</td>\n",
              "      <td></td>\n",
              "      <td>2</td>\n",
              "      <td>2</td>\n",
              "      <td>2</td>\n",
              "      <td>2</td>\n",
              "      <td>...</td>\n",
              "      <td>0</td>\n",
              "      <td>0</td>\n",
              "      <td>0</td>\n",
              "      <td>1000</td>\n",
              "      <td>0</td>\n",
              "      <td>978.26</td>\n",
              "      <td>1</td>\n",
              "      <td>3</td>\n",
              "      <td>1</td>\n",
              "      <td>206</td>\n",
              "    </tr>\n",
              "    <tr>\n",
              "      <th>...</th>\n",
              "      <td>...</td>\n",
              "      <td>...</td>\n",
              "      <td>...</td>\n",
              "      <td>...</td>\n",
              "      <td>...</td>\n",
              "      <td>...</td>\n",
              "      <td>...</td>\n",
              "      <td>...</td>\n",
              "      <td>...</td>\n",
              "      <td>...</td>\n",
              "      <td>...</td>\n",
              "      <td>...</td>\n",
              "      <td>...</td>\n",
              "      <td>...</td>\n",
              "      <td>...</td>\n",
              "      <td>...</td>\n",
              "      <td>...</td>\n",
              "      <td>...</td>\n",
              "      <td>...</td>\n",
              "      <td>...</td>\n",
              "      <td>...</td>\n",
              "    </tr>\n",
              "    <tr>\n",
              "      <th>397177</th>\n",
              "      <td>3260797908</td>\n",
              "      <td>1</td>\n",
              "      <td>0</td>\n",
              "      <td></td>\n",
              "      <td>0</td>\n",
              "      <td></td>\n",
              "      <td>2</td>\n",
              "      <td>2</td>\n",
              "      <td>2</td>\n",
              "      <td>2</td>\n",
              "      <td>...</td>\n",
              "      <td>0</td>\n",
              "      <td>1000</td>\n",
              "      <td>1600</td>\n",
              "      <td>1000</td>\n",
              "      <td>800</td>\n",
              "      <td>2543.47</td>\n",
              "      <td>32</td>\n",
              "      <td>560</td>\n",
              "      <td>10232</td>\n",
              "      <td>123</td>\n",
              "    </tr>\n",
              "    <tr>\n",
              "      <th>397178</th>\n",
              "      <td>3260797909</td>\n",
              "      <td>1</td>\n",
              "      <td>0</td>\n",
              "      <td></td>\n",
              "      <td>0</td>\n",
              "      <td></td>\n",
              "      <td>1</td>\n",
              "      <td>2</td>\n",
              "      <td>2</td>\n",
              "      <td>2</td>\n",
              "      <td>...</td>\n",
              "      <td>9000</td>\n",
              "      <td>9000</td>\n",
              "      <td>9000</td>\n",
              "      <td>9000</td>\n",
              "      <td>9000</td>\n",
              "      <td>26413.04</td>\n",
              "      <td>32</td>\n",
              "      <td>560</td>\n",
              "      <td>10232</td>\n",
              "      <td>123</td>\n",
              "    </tr>\n",
              "    <tr>\n",
              "      <th>397179</th>\n",
              "      <td>3260797910</td>\n",
              "      <td>1</td>\n",
              "      <td>0</td>\n",
              "      <td></td>\n",
              "      <td>0</td>\n",
              "      <td></td>\n",
              "      <td>2</td>\n",
              "      <td>2</td>\n",
              "      <td>2</td>\n",
              "      <td>2</td>\n",
              "      <td>...</td>\n",
              "      <td>43068</td>\n",
              "      <td>48340</td>\n",
              "      <td>48340</td>\n",
              "      <td>43068</td>\n",
              "      <td>48340</td>\n",
              "      <td>136709.99</td>\n",
              "      <td>32</td>\n",
              "      <td>560</td>\n",
              "      <td>10232</td>\n",
              "      <td>123</td>\n",
              "    </tr>\n",
              "    <tr>\n",
              "      <th>397180</th>\n",
              "      <td>3260797912</td>\n",
              "      <td>1</td>\n",
              "      <td>0</td>\n",
              "      <td></td>\n",
              "      <td>0</td>\n",
              "      <td></td>\n",
              "      <td>2</td>\n",
              "      <td>2</td>\n",
              "      <td>2</td>\n",
              "      <td>2</td>\n",
              "      <td>...</td>\n",
              "      <td>8400</td>\n",
              "      <td>8400</td>\n",
              "      <td>8100</td>\n",
              "      <td>8400</td>\n",
              "      <td>8400</td>\n",
              "      <td>24358.69</td>\n",
              "      <td>32</td>\n",
              "      <td>560</td>\n",
              "      <td>10232</td>\n",
              "      <td>123</td>\n",
              "    </tr>\n",
              "    <tr>\n",
              "      <th>397181</th>\n",
              "      <td>3260797912</td>\n",
              "      <td>1</td>\n",
              "      <td>0</td>\n",
              "      <td></td>\n",
              "      <td>0</td>\n",
              "      <td></td>\n",
              "      <td>2</td>\n",
              "      <td>2</td>\n",
              "      <td>2</td>\n",
              "      <td>2</td>\n",
              "      <td>...</td>\n",
              "      <td>5000</td>\n",
              "      <td>5000</td>\n",
              "      <td>4700</td>\n",
              "      <td>5000</td>\n",
              "      <td>5000</td>\n",
              "      <td>14380.43</td>\n",
              "      <td>32</td>\n",
              "      <td>560</td>\n",
              "      <td>10232</td>\n",
              "      <td>123</td>\n",
              "    </tr>\n",
              "  </tbody>\n",
              "</table>\n",
              "<p>397182 rows × 160 columns</p>\n",
              "</div>\n",
              "    <div class=\"colab-df-buttons\">\n",
              "\n",
              "  <div class=\"colab-df-container\">\n",
              "    <button class=\"colab-df-convert\" onclick=\"convertToInteractive('df-814322ee-078e-4067-9982-a83ca2c84e49')\"\n",
              "            title=\"Convert this dataframe to an interactive table.\"\n",
              "            style=\"display:none;\">\n",
              "\n",
              "  <svg xmlns=\"http://www.w3.org/2000/svg\" height=\"24px\" viewBox=\"0 -960 960 960\">\n",
              "    <path d=\"M120-120v-720h720v720H120Zm60-500h600v-160H180v160Zm220 220h160v-160H400v160Zm0 220h160v-160H400v160ZM180-400h160v-160H180v160Zm440 0h160v-160H620v160ZM180-180h160v-160H180v160Zm440 0h160v-160H620v160Z\"/>\n",
              "  </svg>\n",
              "    </button>\n",
              "\n",
              "  <style>\n",
              "    .colab-df-container {\n",
              "      display:flex;\n",
              "      gap: 12px;\n",
              "    }\n",
              "\n",
              "    .colab-df-convert {\n",
              "      background-color: #E8F0FE;\n",
              "      border: none;\n",
              "      border-radius: 50%;\n",
              "      cursor: pointer;\n",
              "      display: none;\n",
              "      fill: #1967D2;\n",
              "      height: 32px;\n",
              "      padding: 0 0 0 0;\n",
              "      width: 32px;\n",
              "    }\n",
              "\n",
              "    .colab-df-convert:hover {\n",
              "      background-color: #E2EBFA;\n",
              "      box-shadow: 0px 1px 2px rgba(60, 64, 67, 0.3), 0px 1px 3px 1px rgba(60, 64, 67, 0.15);\n",
              "      fill: #174EA6;\n",
              "    }\n",
              "\n",
              "    .colab-df-buttons div {\n",
              "      margin-bottom: 4px;\n",
              "    }\n",
              "\n",
              "    [theme=dark] .colab-df-convert {\n",
              "      background-color: #3B4455;\n",
              "      fill: #D2E3FC;\n",
              "    }\n",
              "\n",
              "    [theme=dark] .colab-df-convert:hover {\n",
              "      background-color: #434B5C;\n",
              "      box-shadow: 0px 1px 3px 1px rgba(0, 0, 0, 0.15);\n",
              "      filter: drop-shadow(0px 1px 2px rgba(0, 0, 0, 0.3));\n",
              "      fill: #FFFFFF;\n",
              "    }\n",
              "  </style>\n",
              "\n",
              "    <script>\n",
              "      const buttonEl =\n",
              "        document.querySelector('#df-814322ee-078e-4067-9982-a83ca2c84e49 button.colab-df-convert');\n",
              "      buttonEl.style.display =\n",
              "        google.colab.kernel.accessAllowed ? 'block' : 'none';\n",
              "\n",
              "      async function convertToInteractive(key) {\n",
              "        const element = document.querySelector('#df-814322ee-078e-4067-9982-a83ca2c84e49');\n",
              "        const dataTable =\n",
              "          await google.colab.kernel.invokeFunction('convertToInteractive',\n",
              "                                                    [key], {});\n",
              "        if (!dataTable) return;\n",
              "\n",
              "        const docLinkHtml = 'Like what you see? Visit the ' +\n",
              "          '<a target=\"_blank\" href=https://colab.research.google.com/notebooks/data_table.ipynb>data table notebook</a>'\n",
              "          + ' to learn more about interactive tables.';\n",
              "        element.innerHTML = '';\n",
              "        dataTable['output_type'] = 'display_data';\n",
              "        await google.colab.output.renderOutput(dataTable, element);\n",
              "        const docLink = document.createElement('div');\n",
              "        docLink.innerHTML = docLinkHtml;\n",
              "        element.appendChild(docLink);\n",
              "      }\n",
              "    </script>\n",
              "  </div>\n",
              "\n",
              "\n",
              "<div id=\"df-eecd72f8-abb1-49d0-82f9-e3bf643a149f\">\n",
              "  <button class=\"colab-df-quickchart\" onclick=\"quickchart('df-eecd72f8-abb1-49d0-82f9-e3bf643a149f')\"\n",
              "            title=\"Suggest charts\"\n",
              "            style=\"display:none;\">\n",
              "\n",
              "<svg xmlns=\"http://www.w3.org/2000/svg\" height=\"24px\"viewBox=\"0 0 24 24\"\n",
              "     width=\"24px\">\n",
              "    <g>\n",
              "        <path d=\"M19 3H5c-1.1 0-2 .9-2 2v14c0 1.1.9 2 2 2h14c1.1 0 2-.9 2-2V5c0-1.1-.9-2-2-2zM9 17H7v-7h2v7zm4 0h-2V7h2v10zm4 0h-2v-4h2v4z\"/>\n",
              "    </g>\n",
              "</svg>\n",
              "  </button>\n",
              "\n",
              "<style>\n",
              "  .colab-df-quickchart {\n",
              "      --bg-color: #E8F0FE;\n",
              "      --fill-color: #1967D2;\n",
              "      --hover-bg-color: #E2EBFA;\n",
              "      --hover-fill-color: #174EA6;\n",
              "      --disabled-fill-color: #AAA;\n",
              "      --disabled-bg-color: #DDD;\n",
              "  }\n",
              "\n",
              "  [theme=dark] .colab-df-quickchart {\n",
              "      --bg-color: #3B4455;\n",
              "      --fill-color: #D2E3FC;\n",
              "      --hover-bg-color: #434B5C;\n",
              "      --hover-fill-color: #FFFFFF;\n",
              "      --disabled-bg-color: #3B4455;\n",
              "      --disabled-fill-color: #666;\n",
              "  }\n",
              "\n",
              "  .colab-df-quickchart {\n",
              "    background-color: var(--bg-color);\n",
              "    border: none;\n",
              "    border-radius: 50%;\n",
              "    cursor: pointer;\n",
              "    display: none;\n",
              "    fill: var(--fill-color);\n",
              "    height: 32px;\n",
              "    padding: 0;\n",
              "    width: 32px;\n",
              "  }\n",
              "\n",
              "  .colab-df-quickchart:hover {\n",
              "    background-color: var(--hover-bg-color);\n",
              "    box-shadow: 0 1px 2px rgba(60, 64, 67, 0.3), 0 1px 3px 1px rgba(60, 64, 67, 0.15);\n",
              "    fill: var(--button-hover-fill-color);\n",
              "  }\n",
              "\n",
              "  .colab-df-quickchart-complete:disabled,\n",
              "  .colab-df-quickchart-complete:disabled:hover {\n",
              "    background-color: var(--disabled-bg-color);\n",
              "    fill: var(--disabled-fill-color);\n",
              "    box-shadow: none;\n",
              "  }\n",
              "\n",
              "  .colab-df-spinner {\n",
              "    border: 2px solid var(--fill-color);\n",
              "    border-color: transparent;\n",
              "    border-bottom-color: var(--fill-color);\n",
              "    animation:\n",
              "      spin 1s steps(1) infinite;\n",
              "  }\n",
              "\n",
              "  @keyframes spin {\n",
              "    0% {\n",
              "      border-color: transparent;\n",
              "      border-bottom-color: var(--fill-color);\n",
              "      border-left-color: var(--fill-color);\n",
              "    }\n",
              "    20% {\n",
              "      border-color: transparent;\n",
              "      border-left-color: var(--fill-color);\n",
              "      border-top-color: var(--fill-color);\n",
              "    }\n",
              "    30% {\n",
              "      border-color: transparent;\n",
              "      border-left-color: var(--fill-color);\n",
              "      border-top-color: var(--fill-color);\n",
              "      border-right-color: var(--fill-color);\n",
              "    }\n",
              "    40% {\n",
              "      border-color: transparent;\n",
              "      border-right-color: var(--fill-color);\n",
              "      border-top-color: var(--fill-color);\n",
              "    }\n",
              "    60% {\n",
              "      border-color: transparent;\n",
              "      border-right-color: var(--fill-color);\n",
              "    }\n",
              "    80% {\n",
              "      border-color: transparent;\n",
              "      border-right-color: var(--fill-color);\n",
              "      border-bottom-color: var(--fill-color);\n",
              "    }\n",
              "    90% {\n",
              "      border-color: transparent;\n",
              "      border-bottom-color: var(--fill-color);\n",
              "    }\n",
              "  }\n",
              "</style>\n",
              "\n",
              "  <script>\n",
              "    async function quickchart(key) {\n",
              "      const quickchartButtonEl =\n",
              "        document.querySelector('#' + key + ' button');\n",
              "      quickchartButtonEl.disabled = true;  // To prevent multiple clicks.\n",
              "      quickchartButtonEl.classList.add('colab-df-spinner');\n",
              "      try {\n",
              "        const charts = await google.colab.kernel.invokeFunction(\n",
              "            'suggestCharts', [key], {});\n",
              "      } catch (error) {\n",
              "        console.error('Error during call to suggestCharts:', error);\n",
              "      }\n",
              "      quickchartButtonEl.classList.remove('colab-df-spinner');\n",
              "      quickchartButtonEl.classList.add('colab-df-quickchart-complete');\n",
              "    }\n",
              "    (() => {\n",
              "      let quickchartButtonEl =\n",
              "        document.querySelector('#df-eecd72f8-abb1-49d0-82f9-e3bf643a149f button');\n",
              "      quickchartButtonEl.style.display =\n",
              "        google.colab.kernel.accessAllowed ? 'block' : 'none';\n",
              "    })();\n",
              "  </script>\n",
              "</div>\n",
              "\n",
              "  <div id=\"id_3ba96c5d-f832-4aba-91dd-5f89fee34d50\">\n",
              "    <style>\n",
              "      .colab-df-generate {\n",
              "        background-color: #E8F0FE;\n",
              "        border: none;\n",
              "        border-radius: 50%;\n",
              "        cursor: pointer;\n",
              "        display: none;\n",
              "        fill: #1967D2;\n",
              "        height: 32px;\n",
              "        padding: 0 0 0 0;\n",
              "        width: 32px;\n",
              "      }\n",
              "\n",
              "      .colab-df-generate:hover {\n",
              "        background-color: #E2EBFA;\n",
              "        box-shadow: 0px 1px 2px rgba(60, 64, 67, 0.3), 0px 1px 3px 1px rgba(60, 64, 67, 0.15);\n",
              "        fill: #174EA6;\n",
              "      }\n",
              "\n",
              "      [theme=dark] .colab-df-generate {\n",
              "        background-color: #3B4455;\n",
              "        fill: #D2E3FC;\n",
              "      }\n",
              "\n",
              "      [theme=dark] .colab-df-generate:hover {\n",
              "        background-color: #434B5C;\n",
              "        box-shadow: 0px 1px 3px 1px rgba(0, 0, 0, 0.15);\n",
              "        filter: drop-shadow(0px 1px 2px rgba(0, 0, 0, 0.3));\n",
              "        fill: #FFFFFF;\n",
              "      }\n",
              "    </style>\n",
              "    <button class=\"colab-df-generate\" onclick=\"generateWithVariable('base_3')\"\n",
              "            title=\"Generate code using this dataframe.\"\n",
              "            style=\"display:none;\">\n",
              "\n",
              "  <svg xmlns=\"http://www.w3.org/2000/svg\" height=\"24px\"viewBox=\"0 0 24 24\"\n",
              "       width=\"24px\">\n",
              "    <path d=\"M7,19H8.4L18.45,9,17,7.55,7,17.6ZM5,21V16.75L18.45,3.32a2,2,0,0,1,2.83,0l1.4,1.43a1.91,1.91,0,0,1,.58,1.4,1.91,1.91,0,0,1-.58,1.4L9.25,21ZM18.45,9,17,7.55Zm-12,3A5.31,5.31,0,0,0,4.9,8.1,5.31,5.31,0,0,0,1,6.5,5.31,5.31,0,0,0,4.9,4.9,5.31,5.31,0,0,0,6.5,1,5.31,5.31,0,0,0,8.1,4.9,5.31,5.31,0,0,0,12,6.5,5.46,5.46,0,0,0,6.5,12Z\"/>\n",
              "  </svg>\n",
              "    </button>\n",
              "    <script>\n",
              "      (() => {\n",
              "      const buttonEl =\n",
              "        document.querySelector('#id_3ba96c5d-f832-4aba-91dd-5f89fee34d50 button.colab-df-generate');\n",
              "      buttonEl.style.display =\n",
              "        google.colab.kernel.accessAllowed ? 'block' : 'none';\n",
              "\n",
              "      buttonEl.onclick = () => {\n",
              "        google.colab.notebook.generateWithVariable('base_3');\n",
              "      }\n",
              "      })();\n",
              "    </script>\n",
              "  </div>\n",
              "\n",
              "    </div>\n",
              "  </div>\n"
            ]
          },
          "metadata": {},
          "execution_count": 16
        }
      ]
    },
    {
      "cell_type": "code",
      "source": [
        "base_3.columns.values"
      ],
      "metadata": {
        "colab": {
          "base_uri": "https://localhost:8080/"
        },
        "id": "J_0ImWOD7qrp",
        "outputId": "678268e4-bcfc-4bd8-f769-0cfb82dff868"
      },
      "execution_count": null,
      "outputs": [
        {
          "output_type": "execute_result",
          "data": {
            "text/plain": [
              "array(['folioviv', 'foliohog', 'huespedes', 'huesp_come', 'num_trab_d',\n",
              "       'trab_come', 'acc_alim1', 'acc_alim2', 'acc_alim3', 'acc_alim4',\n",
              "       'acc_alim5', 'acc_alim6', 'acc_alim7', 'acc_alim8', 'acc_alim9',\n",
              "       'acc_alim10', 'acc_alim11', 'acc_alim12', 'acc_alim13',\n",
              "       'acc_alim14', 'acc_alim15', 'acc_alim16', 'alim17_1', 'alim17_2',\n",
              "       'alim17_3', 'alim17_4', 'alim17_5', 'alim17_6', 'alim17_7',\n",
              "       'alim17_8', 'alim17_9', 'alim17_10', 'alim17_11', 'alim17_12',\n",
              "       'acc_alim18', 'telefono', 'celular', 'tv_paga', 'conex_inte',\n",
              "       'num_auto', 'anio_auto', 'num_van', 'anio_van', 'num_pickup',\n",
              "       'anio_pickup', 'num_moto', 'anio_moto', 'num_bici', 'anio_bici',\n",
              "       'num_trici', 'anio_trici', 'num_carret', 'anio_carret',\n",
              "       'num_canoa', 'anio_canoa', 'num_otro', 'anio_otro', 'num_ester',\n",
              "       'anio_ester', 'num_grab', 'anio_grab', 'num_radio', 'anio_radio',\n",
              "       'num_tva', 'anio_tva', 'num_tvd', 'anio_tvd', 'num_dvd',\n",
              "       'anio_dvd', 'num_video', 'anio_video', 'num_licua', 'anio_licua',\n",
              "       'num_tosta', 'anio_tosta', 'num_micro', 'anio_micro', 'num_refri',\n",
              "       'anio_refri', 'num_estuf', 'anio_estuf', 'num_lavad', 'anio_lavad',\n",
              "       'num_planc', 'anio_planc', 'num_maqui', 'anio_maqui', 'num_venti',\n",
              "       'anio_venti', 'num_aspir', 'anio_aspir', 'num_compu', 'anio_compu',\n",
              "       'num_impre', 'anio_impre', 'num_juego', 'anio_juego', 'esc_radio',\n",
              "       'er_aparato', 'er_celular', 'er_compu', 'er_aplicac', 'er_tv',\n",
              "       'er_otro', 'recib_tvd', 'tsalud1_h', 'tsalud1_m', 'habito_1',\n",
              "       'habito_2', 'habito_3', 'habito_4', 'habito_5', 'habito_6',\n",
              "       'consumo', 'nr_viv', 'tarjeta', 'pagotarjet', 'regalotar',\n",
              "       'regalodado', 'autocons', 'regalos', 'remunera', 'transferen',\n",
              "       'parto_g', 'embarazo_g', 'negcua', 'est_alim', 'est_trans',\n",
              "       'bene_licon', 'cond_licon', 'lts_licon', 'otros_lts', 'diconsa',\n",
              "       'frec_dicon', 'cond_dicon', 'pago_dicon', 'otro_pago', 'entidad_x',\n",
              "       'est_dis_x', 'upm_x', 'factor_x', 'numren', 'clave', 'mes_1',\n",
              "       'mes_2', 'mes_3', 'mes_4', 'mes_5', 'mes_6', 'ing_1', 'ing_2',\n",
              "       'ing_3', 'ing_4', 'ing_5', 'ing_6', 'ing_tri', 'entidad_y',\n",
              "       'est_dis_y', 'upm_y', 'factor_y'], dtype=object)"
            ]
          },
          "metadata": {},
          "execution_count": 5
        }
      ]
    },
    {
      "cell_type": "code",
      "source": [
        "# Creando la variable:\n",
        "\n",
        "base_3['Estado']=0\n",
        "\n",
        "#Estado=1:\n",
        "#[1,2,3,5,6,8,10,14,18,19,24,25,26,28,32]\n",
        "\n",
        "#estos son los estados que deben tener como valor 1\n",
        "lista_norte=[1,2,3,5,6,8,10,14,18,19,24,25,26,28,32]\n",
        "\n",
        "#accediendo a los valores:\n",
        "for norte in lista_norte:\n",
        "  base_3.loc[ base_3['entidad_y']==norte, 'Estado']=1\n"
      ],
      "metadata": {
        "id": "N6V1RiYChh7j"
      },
      "execution_count": null,
      "outputs": []
    },
    {
      "cell_type": "code",
      "source": [],
      "metadata": {
        "id": "ZlUEbuBZD6vd"
      },
      "execution_count": null,
      "outputs": []
    },
    {
      "cell_type": "code",
      "source": [
        "base_3.loc[ base_3['Estado']==1, 'Estado']"
      ],
      "metadata": {
        "colab": {
          "base_uri": "https://localhost:8080/"
        },
        "id": "2db-bXKm1olN",
        "outputId": "67987d03-0e52-402c-b07e-68e5bb0f0776"
      },
      "execution_count": null,
      "outputs": [
        {
          "output_type": "execute_result",
          "data": {
            "text/plain": [
              "0         1\n",
              "1         1\n",
              "2         1\n",
              "3         1\n",
              "4         1\n",
              "         ..\n",
              "397177    1\n",
              "397178    1\n",
              "397179    1\n",
              "397180    1\n",
              "397181    1\n",
              "Name: Estado, Length: 203756, dtype: int64"
            ]
          },
          "metadata": {},
          "execution_count": 22
        }
      ]
    },
    {
      "cell_type": "code",
      "source": [
        "#variable ingresos: promedio, mediana, boxplot\n",
        "base_3['ing_tri']"
      ],
      "metadata": {
        "colab": {
          "base_uri": "https://localhost:8080/"
        },
        "id": "kv6BQZm4EwBm",
        "outputId": "eb03bad1-1a63-4715-eaa6-77afbd6090dd"
      },
      "execution_count": null,
      "outputs": [
        {
          "output_type": "execute_result",
          "data": {
            "text/plain": [
              "0           7434.78\n",
              "1          33749.99\n",
              "2           1956.52\n",
              "3            391.30\n",
              "4            978.26\n",
              "            ...    \n",
              "397177      2543.47\n",
              "397178     26413.04\n",
              "397179    136709.99\n",
              "397180     24358.69\n",
              "397181     14380.43\n",
              "Name: ing_tri, Length: 397182, dtype: float64"
            ]
          },
          "metadata": {},
          "execution_count": 23
        }
      ]
    },
    {
      "cell_type": "code",
      "source": [
        "import numpy as np\n",
        "#media\n",
        "np.mean(base_3['ing_tri'])"
      ],
      "metadata": {
        "colab": {
          "base_uri": "https://localhost:8080/"
        },
        "id": "yjSyseBXFL86",
        "outputId": "a48fb0c8-0c07-4e61-bda1-55c5d6fae37e"
      },
      "execution_count": null,
      "outputs": [
        {
          "output_type": "execute_result",
          "data": {
            "text/plain": [
              "12233.880860537485"
            ]
          },
          "metadata": {},
          "execution_count": 24
        }
      ]
    },
    {
      "cell_type": "code",
      "source": [
        "import matplotlib.pyplot as plt\n",
        "\n",
        "# creando el gráfico\n",
        "\n",
        "plt.boxplot(base_3['ing_tri'])\n",
        "\n",
        "# mostrando el grafico con .show()\n",
        "plt.show()"
      ],
      "metadata": {
        "colab": {
          "base_uri": "https://localhost:8080/",
          "height": 445
        },
        "id": "9XvECZdlFSWR",
        "outputId": "96a9c47e-f745-4b12-a551-7421fa944062"
      },
      "execution_count": null,
      "outputs": [
        {
          "output_type": "display_data",
          "data": {
            "text/plain": [
              "<Figure size 640x480 with 1 Axes>"
            ],
            "image/png": "[encoded data removed]"
          },
          "metadata": {}
        }
      ]
    },
    {
      "cell_type": "code",
      "source": [
        "import numpy as np\n",
        "import matplotlib.pyplot as plt\n",
        "\n",
        "\n",
        "# Histograma\n",
        "fig, ax = plt.subplots()\n",
        "ax.hist(base_3['ing_tri'])\n",
        "plt.show()\n"
      ],
      "metadata": {
        "colab": {
          "base_uri": "https://localhost:8080/",
          "height": 448
        },
        "id": "Y2iNOM_oH06e",
        "outputId": "faa4059b-ffc3-4a1f-8b2d-7a8a0130af42"
      },
      "execution_count": null,
      "outputs": [
        {
          "output_type": "display_data",
          "data": {
            "text/plain": [
              "<Figure size 640x480 with 1 Axes>"
            ],
            "image/png": "[encoded data removed]"
          },
          "metadata": {}
        }
      ]
    },
    {
      "cell_type": "code",
      "source": [
        "import numpy as np\n",
        "#media\n",
        "np.mean(base_3['ing_tri'])"
      ],
      "metadata": {
        "colab": {
          "base_uri": "https://localhost:8080/"
        },
        "id": "l7VKwJljJsxq",
        "outputId": "152eb2d8-e8e7-4ec1-88cd-6ec4b7c287e1"
      },
      "execution_count": null,
      "outputs": [
        {
          "output_type": "execute_result",
          "data": {
            "text/plain": [
              "12233.880860537485"
            ]
          },
          "metadata": {},
          "execution_count": 47
        }
      ]
    },
    {
      "cell_type": "code",
      "source": [
        "base_3['ing_tri']"
      ],
      "metadata": {
        "colab": {
          "base_uri": "https://localhost:8080/"
        },
        "id": "w3P5cxezJ-p-",
        "outputId": "3438dc99-99d8-48a1-9345-cba50e83068e"
      },
      "execution_count": null,
      "outputs": [
        {
          "output_type": "execute_result",
          "data": {
            "text/plain": [
              "0           7434.78\n",
              "1          33749.99\n",
              "2           1956.52\n",
              "3            391.30\n",
              "4            978.26\n",
              "            ...    \n",
              "397177      2543.47\n",
              "397178     26413.04\n",
              "397179    136709.99\n",
              "397180     24358.69\n",
              "397181     14380.43\n",
              "Name: ing_tri, Length: 397182, dtype: float64"
            ]
          },
          "metadata": {},
          "execution_count": 48
        }
      ]
    },
    {
      "cell_type": "code",
      "source": [
        "ing_sur=base_3.loc[ base_3['Estado']==0,'ing_tri']"
      ],
      "metadata": {
        "id": "I2ACdjOrKB6U"
      },
      "execution_count": null,
      "outputs": []
    },
    {
      "cell_type": "code",
      "source": [
        "#estadisticas descriptivas\n",
        "ing_sur.describe().round(2)"
      ],
      "metadata": {
        "colab": {
          "base_uri": "https://localhost:8080/"
        },
        "id": "P1OI5Nc2KaIH",
        "outputId": "b3828c29-ab27-4bc7-9a32-5a6ea96f7e65"
      },
      "execution_count": null,
      "outputs": [
        {
          "output_type": "execute_result",
          "data": {
            "text/plain": [
              "count     193426.00\n",
              "mean       10760.09\n",
              "std        27302.46\n",
              "min            0.00\n",
              "25%         1296.19\n",
              "50%         4402.17\n",
              "75%        14086.95\n",
              "max      4157608.69\n",
              "Name: ing_tri, dtype: float64"
            ]
          },
          "metadata": {},
          "execution_count": 52
        }
      ]
    },
    {
      "cell_type": "code",
      "source": [
        "ing_norte=base_3.loc[ base_3['entidad']==1,'ing_tri']"
      ],
      "metadata": {
        "id": "OFo4irWlKqyz"
      },
      "execution_count": null,
      "outputs": []
    },
    {
      "cell_type": "code",
      "source": [
        "#estadisticas descriptivas\n",
        "ing_norte.describe().round(2)"
      ],
      "metadata": {
        "colab": {
          "base_uri": "https://localhost:8080/"
        },
        "id": "jGgIYnaSKvhG",
        "outputId": "63adf14d-51cc-4917-e0ce-bc129539c604"
      },
      "execution_count": null,
      "outputs": [
        {
          "output_type": "execute_result",
          "data": {
            "text/plain": [
              "count     203756.00\n",
              "mean       13632.95\n",
              "std        41418.65\n",
              "min            0.24\n",
              "25%         1467.39\n",
              "50%         5380.43\n",
              "75%        17704.91\n",
              "max      6854754.09\n",
              "Name: ing_tri, dtype: float64"
            ]
          },
          "metadata": {},
          "execution_count": 55
        }
      ]
    },
    {
      "cell_type": "code",
      "source": [
        "#distribución de ingresos en jalisco\n",
        "ing_jalisco=base_3.loc[ base_3['entidad_y']==14,'ing_tri']\n",
        "#estadisticas descriptivas\n",
        "ing_jalisco.describe().round(2)"
      ],
      "metadata": {
        "colab": {
          "base_uri": "https://localhost:8080/"
        },
        "id": "l7u7-Da4Lwkk",
        "outputId": "dbb98aa5-b812-46a0-acb9-e7653426b16d"
      },
      "execution_count": null,
      "outputs": [
        {
          "output_type": "execute_result",
          "data": {
            "text/plain": [
              "count     11169.00\n",
              "mean      14126.74\n",
              "std       25273.96\n",
              "min           2.44\n",
              "25%        1475.40\n",
              "50%        5680.32\n",
              "75%       19672.13\n",
              "max      849044.34\n",
              "Name: ing_tri, dtype: float64"
            ]
          },
          "metadata": {},
          "execution_count": 59
        }
      ]
    },
    {
      "cell_type": "code",
      "source": [
        "#distribución de ingresos en jalisco\n",
        "ing_yucatan=base_3.loc[ base_3['entidad_y']==31,'ing_tri']\n",
        "#estadisticas descriptivas\n",
        "ing_yucatan.describe().round(2)"
      ],
      "metadata": {
        "colab": {
          "base_uri": "https://localhost:8080/"
        },
        "id": "GPTkfxqtMHto",
        "outputId": "f0160833-f5c8-4df2-8357-5deb7ced63fa"
      },
      "execution_count": null,
      "outputs": [
        {
          "output_type": "execute_result",
          "data": {
            "text/plain": [
              "count      15198.00\n",
              "mean        9535.26\n",
              "std        25319.97\n",
              "min            0.49\n",
              "25%          944.38\n",
              "50%         3540.98\n",
              "75%        11803.27\n",
              "max      1527798.91\n",
              "Name: ing_tri, dtype: float64"
            ]
          },
          "metadata": {},
          "execution_count": 60
        }
      ]
    },
    {
      "cell_type": "code",
      "source": [
        "\n",
        "H=[np.log(ing_yucatan),np.log(ing_jalisco)]\n",
        "#añadiendo\n",
        "plt.boxplot(H)\n",
        "# mostrando el grafico con .show()\n",
        "plt.show()"
      ],
      "metadata": {
        "colab": {
          "base_uri": "https://localhost:8080/"
        },
        "id": "J23GGebMMfn-",
        "outputId": "c9e48714-9968-4c29-9a14-052d94b5715e"
      },
      "execution_count": null,
      "outputs": [
        {
          "output_type": "display_data",
          "data": {
            "text/plain": [
              "<Figure size 640x480 with 1 Axes>"
            ],
            "image/png": "[encoded data removed]"
          },
          "metadata": {}
        }
      ]
    }
  ]
}