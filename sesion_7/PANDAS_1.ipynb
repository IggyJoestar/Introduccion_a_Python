{
  "nbformat": 4,
  "nbformat_minor": 0,
  "metadata": {
    "colab": {
      "provenance": []
    },
    "kernelspec": {
      "name": "python3",
      "display_name": "Python 3"
    },
    "language_info": {
      "name": "python"
    }
  },
  "cells": [
    {
      "cell_type": "markdown",
      "source": [
        "# DATAFRAME:\n",
        "El elemento fundamental en pandas.\n",
        "\n",
        "|  |  year | PBI |\n",
        "| ---------- | ------------- | ------------- |\n",
        "| 0 | 2010 | 100M  |\n",
        "| 1|  2011| 102M  |\n",
        "| 2| 2012 | 100M  |\n",
        "| 3 |  2013| 102M  |\n",
        "\n",
        "Es una estructura bidimensional compuesta por filas y columnas, con indices.\n"
      ],
      "metadata": {
        "id": "eANutZsqA_5h"
      }
    },
    {
      "cell_type": "code",
      "execution_count": null,
      "metadata": {
        "id": "P-9Xt-qaA3FI"
      },
      "outputs": [],
      "source": []
    },
    {
      "cell_type": "markdown",
      "source": [
        "# Serie:\n",
        "Arreglo unidemensional asociado a un arreglo de indices.\n",
        "\n",
        "|   | Edad |\n",
        "| ------------- | ------------- |\n",
        "| 0  | 21  |\n",
        "| 1  | 22  |\n",
        "| 2  | 24  |\n",
        "| 3  | 22  |\n",
        "| 4  | 21  |\n",
        "| 5 | 20  |\n",
        "| 6  | 21  |\n",
        "| 7  | 22  |\n"
      ],
      "metadata": {
        "id": "-ICR-YJ_Ch-U"
      }
    },
    {
      "cell_type": "code",
      "source": [],
      "metadata": {
        "id": "lUNXQU94Cy8D"
      },
      "execution_count": null,
      "outputs": []
    },
    {
      "cell_type": "markdown",
      "source": [
        "## De Listas a Series:\n",
        "\n",
        "para convertir una lista a una **Serie** usamos la funcion *pd.Series()*.\n",
        "\n",
        "**NOTA**:Antes debemos haber importado pandas"
      ],
      "metadata": {
        "id": "dUn94poQDrMy"
      }
    },
    {
      "cell_type": "code",
      "source": [
        "import pandas as pd\n",
        "##python: input() , len(),\n",
        "## pandas: funciones adicionales:   pd.Series()\n",
        "lista=[2,5,6,7,9]\n",
        "\n",
        "serie_1=pd.Series(lista)\n",
        "print(serie_1)"
      ],
      "metadata": {
        "colab": {
          "base_uri": "https://localhost:8080/"
        },
        "id": "HWM9X7zTEIZI",
        "outputId": "866ce802-e8c1-445e-f440-c6249db98f79"
      },
      "execution_count": null,
      "outputs": [
        {
          "output_type": "stream",
          "name": "stdout",
          "text": [
            "0    2\n",
            "1    5\n",
            "2    6\n",
            "3    7\n",
            "4    9\n",
            "dtype: int64\n"
          ]
        }
      ]
    },
    {
      "cell_type": "markdown",
      "source": [
        "### Valores e indices\n",
        "\n",
        "Podemos conocer a los valores y a los indices usando los atributos \"*.values*\" e \"*.index*\" respectivamente"
      ],
      "metadata": {
        "id": "LgXJaDb-LAep"
      }
    },
    {
      "cell_type": "code",
      "source": [
        "serie_1.values"
      ],
      "metadata": {
        "colab": {
          "base_uri": "https://localhost:8080/"
        },
        "id": "mgqzoSahLIUl",
        "outputId": "6f0a2353-3d1b-4304-d5d5-b81a43c3c074"
      },
      "execution_count": null,
      "outputs": [
        {
          "output_type": "execute_result",
          "data": {
            "text/plain": [
              "array([2, 5, 6, 7, 9])"
            ]
          },
          "metadata": {},
          "execution_count": 4
        }
      ]
    },
    {
      "cell_type": "code",
      "source": [
        "serie_1.index"
      ],
      "metadata": {
        "colab": {
          "base_uri": "https://localhost:8080/"
        },
        "id": "jnT6OJppLOf5",
        "outputId": "a26bb5f3-04b2-4cb9-a581-8b50d5b9b9a9"
      },
      "execution_count": null,
      "outputs": [
        {
          "output_type": "execute_result",
          "data": {
            "text/plain": [
              "RangeIndex(start=0, stop=5, step=1)"
            ]
          },
          "metadata": {},
          "execution_count": 5
        }
      ]
    },
    {
      "cell_type": "markdown",
      "source": [
        "## Renombrando los indices"
      ],
      "metadata": {
        "id": "gWPppSjBKSVw"
      }
    },
    {
      "cell_type": "code",
      "source": [
        "lista=[2,5,6,7]\n",
        "\n",
        "#serie_1=pd.Series(lista, index=['a',])\n",
        "\n",
        "\n",
        "serie_1=pd.Series(lista, index=['abraham','benny','carlos','daniel'])\n",
        "print(serie_1)"
      ],
      "metadata": {
        "colab": {
          "base_uri": "https://localhost:8080/"
        },
        "id": "KnWOC9CzKAaP",
        "outputId": "3febc84e-6d73-4786-8ec5-f936b9931593"
      },
      "execution_count": null,
      "outputs": [
        {
          "output_type": "stream",
          "name": "stdout",
          "text": [
            "abraham    2\n",
            "benny      5\n",
            "carlos     6\n",
            "daniel     7\n",
            "dtype: int64\n"
          ]
        }
      ]
    },
    {
      "cell_type": "code",
      "source": [
        "serie_1.values"
      ],
      "metadata": {
        "colab": {
          "base_uri": "https://localhost:8080/"
        },
        "id": "lXHSVj24L030",
        "outputId": "f4689945-6117-42a2-8628-d9628dcaed70"
      },
      "execution_count": null,
      "outputs": [
        {
          "output_type": "execute_result",
          "data": {
            "text/plain": [
              "array([2, 5, 6, 7])"
            ]
          },
          "metadata": {},
          "execution_count": 9
        }
      ]
    },
    {
      "cell_type": "code",
      "source": [
        "serie_1.index"
      ],
      "metadata": {
        "colab": {
          "base_uri": "https://localhost:8080/"
        },
        "id": "_eXoe2VjL3fK",
        "outputId": "6239638b-bd82-4f4e-af59-5cc2298fd88a"
      },
      "execution_count": null,
      "outputs": [
        {
          "output_type": "execute_result",
          "data": {
            "text/plain": [
              "Index(['abraham', 'benny', 'carlos', 'daniel'], dtype='object')"
            ]
          },
          "metadata": {},
          "execution_count": 10
        }
      ]
    },
    {
      "cell_type": "markdown",
      "source": [
        "## Accediendo a valores con los indices"
      ],
      "metadata": {
        "id": "N7XfQos2KVWm"
      }
    },
    {
      "cell_type": "code",
      "source": [
        "serie_1=pd.Series(lista, index=['abraham','benny','carlos','daniel'])\n",
        "print(serie_1)\n",
        "#para acceder al valor usamos corchetes"
      ],
      "metadata": {
        "colab": {
          "base_uri": "https://localhost:8080/"
        },
        "id": "0gyHDltXKNnn",
        "outputId": "e98fd858-8324-4eb7-a666-29d3f73bda27"
      },
      "execution_count": null,
      "outputs": [
        {
          "output_type": "stream",
          "name": "stdout",
          "text": [
            "abraham    2\n",
            "benny      5\n",
            "carlos     6\n",
            "daniel     7\n",
            "dtype: int64\n"
          ]
        }
      ]
    },
    {
      "cell_type": "code",
      "source": [
        "#primera forma:\n",
        "serie_1[0]"
      ],
      "metadata": {
        "colab": {
          "base_uri": "https://localhost:8080/"
        },
        "id": "4ivQMhwpL7GC",
        "outputId": "5fe88bff-a403-4b02-b51c-29222c8067b1"
      },
      "execution_count": null,
      "outputs": [
        {
          "output_type": "execute_result",
          "data": {
            "text/plain": [
              "2"
            ]
          },
          "metadata": {},
          "execution_count": 17
        }
      ]
    },
    {
      "cell_type": "code",
      "source": [
        "#segunda forma:\n",
        "serie_1['abraham']"
      ],
      "metadata": {
        "colab": {
          "base_uri": "https://localhost:8080/"
        },
        "id": "7rnEVdgrL8hG",
        "outputId": "9018aafc-3ab6-43c0-8d68-4ee19a8b8346"
      },
      "execution_count": null,
      "outputs": [
        {
          "output_type": "execute_result",
          "data": {
            "text/plain": [
              "2"
            ]
          },
          "metadata": {},
          "execution_count": 19
        }
      ]
    },
    {
      "cell_type": "code",
      "source": [
        "# accediendo a varios valores:\n",
        "serie_1[['abraham','carlos']]"
      ],
      "metadata": {
        "colab": {
          "base_uri": "https://localhost:8080/"
        },
        "id": "GfFtAdnnNSNl",
        "outputId": "f3caaefd-54e5-43f9-b121-fd9302c0b3b1"
      },
      "execution_count": null,
      "outputs": [
        {
          "output_type": "execute_result",
          "data": {
            "text/plain": [
              "abraham    2\n",
              "carlos     6\n",
              "dtype: int64"
            ]
          },
          "metadata": {},
          "execution_count": 20
        }
      ]
    },
    {
      "cell_type": "markdown",
      "source": [
        "### Cambiando valores:"
      ],
      "metadata": {
        "id": "6xpMjUs7MdGl"
      }
    },
    {
      "cell_type": "code",
      "source": [
        "#antes:\n",
        "print(serie_1)\n",
        "print(\"\\n\")\n",
        "#cambiando un valor\n",
        "serie_1['abraham']=4\n",
        "#después:\n",
        "serie_1"
      ],
      "metadata": {
        "colab": {
          "base_uri": "https://localhost:8080/"
        },
        "id": "hqNXK5L4MOyN",
        "outputId": "cfd2c0e0-52e8-465c-f711-2456d7850449"
      },
      "execution_count": null,
      "outputs": [
        {
          "output_type": "stream",
          "name": "stdout",
          "text": [
            "abraham      2\n",
            "benny        5\n",
            "carlos       6\n",
            "daniel       7\n",
            "c          100\n",
            "dtype: int64\n",
            "\n",
            "\n"
          ]
        },
        {
          "output_type": "execute_result",
          "data": {
            "text/plain": [
              "abraham      4\n",
              "benny        5\n",
              "carlos       6\n",
              "daniel       7\n",
              "c          100\n",
              "dtype: int64"
            ]
          },
          "metadata": {},
          "execution_count": 22
        }
      ]
    },
    {
      "cell_type": "code",
      "source": [],
      "metadata": {
        "id": "40DbQ8q2M8kK"
      },
      "execution_count": null,
      "outputs": []
    },
    {
      "cell_type": "markdown",
      "source": [
        "## Al ser un Arreglo podemos usar las operaciones con las Series:"
      ],
      "metadata": {
        "id": "Mr64aM2QNvam"
      }
    },
    {
      "cell_type": "code",
      "source": [
        "notas=[12,10,8,9,11,12]\n",
        "#convertimos en una serie:\n",
        "serie_2=pd.Series(notas)\n",
        "serie_2"
      ],
      "metadata": {
        "colab": {
          "base_uri": "https://localhost:8080/"
        },
        "id": "IaFysZYoN5wX",
        "outputId": "014452f9-88fd-45b1-9628-0d1a330ec697"
      },
      "execution_count": null,
      "outputs": [
        {
          "output_type": "execute_result",
          "data": {
            "text/plain": [
              "0    12\n",
              "1    10\n",
              "2     8\n",
              "3     9\n",
              "4    11\n",
              "5    12\n",
              "dtype: int64"
            ]
          },
          "metadata": {},
          "execution_count": 24
        }
      ]
    },
    {
      "cell_type": "code",
      "source": [
        "#multiplicación\n",
        "serie_2*2"
      ],
      "metadata": {
        "colab": {
          "base_uri": "https://localhost:8080/"
        },
        "id": "2SX4uRp1OO4d",
        "outputId": "8c13f0c2-a668-495d-8fee-6018d38d0fe9"
      },
      "execution_count": null,
      "outputs": [
        {
          "output_type": "execute_result",
          "data": {
            "text/plain": [
              "0    24\n",
              "1    20\n",
              "2    16\n",
              "3    18\n",
              "4    22\n",
              "5    24\n",
              "dtype: int64"
            ]
          },
          "metadata": {},
          "execution_count": 25
        }
      ]
    },
    {
      "cell_type": "code",
      "source": [
        "#adición\n",
        "serie_2-10"
      ],
      "metadata": {
        "colab": {
          "base_uri": "https://localhost:8080/"
        },
        "id": "N5wrJJXiOYjv",
        "outputId": "c77cd7e0-e636-4834-eaa8-e1fee610ab30"
      },
      "execution_count": null,
      "outputs": [
        {
          "output_type": "execute_result",
          "data": {
            "text/plain": [
              "0    2\n",
              "1    0\n",
              "2   -2\n",
              "3   -1\n",
              "4    1\n",
              "5    2\n",
              "dtype: int64"
            ]
          },
          "metadata": {},
          "execution_count": 45
        }
      ]
    },
    {
      "cell_type": "code",
      "source": [
        "#otras operaciones\n",
        "serie_2*2-10"
      ],
      "metadata": {
        "colab": {
          "base_uri": "https://localhost:8080/"
        },
        "id": "ld3jwuC8Odop",
        "outputId": "38303866-c54e-42ed-d148-8637e10cec15"
      },
      "execution_count": null,
      "outputs": [
        {
          "output_type": "execute_result",
          "data": {
            "text/plain": [
              "0    14\n",
              "1    10\n",
              "2     6\n",
              "3     8\n",
              "4    12\n",
              "5    14\n",
              "dtype: int64"
            ]
          },
          "metadata": {},
          "execution_count": 48
        }
      ]
    },
    {
      "cell_type": "markdown",
      "source": [
        "### Filtrando datos en Series:"
      ],
      "metadata": {
        "id": "6NBpyjr8OwDS"
      }
    },
    {
      "cell_type": "code",
      "source": [
        "notas_2023=[10,12,9,8,15,17,6]\n",
        "#conviertiendo en una serie:\n",
        "serie_3=pd.Series(notas_2023, index=['abraham','benny','carlos','juan','eduardo','rosbell','diego'])\n",
        "serie_3"
      ],
      "metadata": {
        "colab": {
          "base_uri": "https://localhost:8080/"
        },
        "id": "R1lsRLA4O0M-",
        "outputId": "e3d8cf8b-0cf4-48fa-db5c-e6178ce6360b"
      },
      "execution_count": null,
      "outputs": [
        {
          "output_type": "execute_result",
          "data": {
            "text/plain": [
              "abraham    10\n",
              "benny      12\n",
              "carlos      9\n",
              "juan        8\n",
              "eduardo    15\n",
              "rosbell    17\n",
              "diego       6\n",
              "dtype: int64"
            ]
          },
          "metadata": {},
          "execution_count": 29
        }
      ]
    },
    {
      "cell_type": "code",
      "source": [
        "#podemos filtrar a los aprobados:\n",
        "serie_3[serie_3>=11]"
      ],
      "metadata": {
        "colab": {
          "base_uri": "https://localhost:8080/"
        },
        "id": "DClbuDokPLY7",
        "outputId": "268cf5e3-f561-425d-f5ad-ea6c61f402c7"
      },
      "execution_count": null,
      "outputs": [
        {
          "output_type": "execute_result",
          "data": {
            "text/plain": [
              "benny      12\n",
              "eduardo    15\n",
              "rosbell    17\n",
              "dtype: int64"
            ]
          },
          "metadata": {},
          "execution_count": 30
        }
      ]
    },
    {
      "cell_type": "code",
      "source": [
        "#a los desaprobados\n",
        "#podemos filtrar a los aprobados:\n",
        "serie_3[serie_3<11]"
      ],
      "metadata": {
        "colab": {
          "base_uri": "https://localhost:8080/"
        },
        "id": "B_KQAJ-1PYis",
        "outputId": "472b6055-cf81-4753-f0e6-4c43f62d3b45"
      },
      "execution_count": null,
      "outputs": [
        {
          "output_type": "execute_result",
          "data": {
            "text/plain": [
              "abraham    10\n",
              "carlos      9\n",
              "juan        8\n",
              "diego       6\n",
              "dtype: int64"
            ]
          },
          "metadata": {},
          "execution_count": 31
        }
      ]
    },
    {
      "cell_type": "markdown",
      "source": [
        "## Como saber si un indice está en una Serie:\n",
        "Para ello usamos la palabra clave \"*in*\""
      ],
      "metadata": {
        "id": "aDTHF_alQYvG"
      }
    },
    {
      "cell_type": "code",
      "source": [
        "'kevin' in serie_3"
      ],
      "metadata": {
        "colab": {
          "base_uri": "https://localhost:8080/"
        },
        "id": "yWsYFJB9QX-Z",
        "outputId": "340ff014-f246-4fd1-911a-20d2c4ed11d6"
      },
      "execution_count": null,
      "outputs": [
        {
          "output_type": "execute_result",
          "data": {
            "text/plain": [
              "False"
            ]
          },
          "metadata": {},
          "execution_count": 32
        }
      ]
    },
    {
      "cell_type": "code",
      "source": [
        "'diego' in serie_3"
      ],
      "metadata": {
        "colab": {
          "base_uri": "https://localhost:8080/"
        },
        "id": "_RMTAAG6Q7pn",
        "outputId": "8039f1e0-5612-48a7-a47f-7ffcfa9f3cb2"
      },
      "execution_count": null,
      "outputs": [
        {
          "output_type": "execute_result",
          "data": {
            "text/plain": [
              "True"
            ]
          },
          "metadata": {},
          "execution_count": 34
        }
      ]
    },
    {
      "cell_type": "markdown",
      "source": [
        "# Usando un poco de NUMPY\n",
        "Al ser las series arreglos del tipo np.array podemos usar las funciones de numpy importando la librería previamente."
      ],
      "metadata": {
        "id": "p4mpRc3dRJtH"
      }
    },
    {
      "cell_type": "code",
      "source": [
        "#"
      ],
      "metadata": {
        "id": "xtDwoQ4LR27i"
      },
      "execution_count": null,
      "outputs": []
    },
    {
      "cell_type": "code",
      "source": [
        "import numpy as np\n",
        "#media\n",
        "np.mean(serie_3)"
      ],
      "metadata": {
        "colab": {
          "base_uri": "https://localhost:8080/"
        },
        "id": "tTBjVtnzRJU_",
        "outputId": "5362d150-829b-4f36-bd98-37f7531554c0"
      },
      "execution_count": null,
      "outputs": [
        {
          "output_type": "execute_result",
          "data": {
            "text/plain": [
              "11.0"
            ]
          },
          "metadata": {},
          "execution_count": 35
        }
      ]
    },
    {
      "cell_type": "code",
      "source": [
        "#mediana\n",
        "np.median(serie_3)"
      ],
      "metadata": {
        "colab": {
          "base_uri": "https://localhost:8080/"
        },
        "id": "ISKB-hdkSSgq",
        "outputId": "05dd2ea4-b462-42c2-841c-396fcb425df3"
      },
      "execution_count": null,
      "outputs": [
        {
          "output_type": "execute_result",
          "data": {
            "text/plain": [
              "10.0"
            ]
          },
          "metadata": {},
          "execution_count": 36
        }
      ]
    },
    {
      "cell_type": "code",
      "source": [
        "#Summarize de estadísticas descriptivas.\n",
        "#describe es de PANDAS\n",
        "serie_3.describe()"
      ],
      "metadata": {
        "colab": {
          "base_uri": "https://localhost:8080/"
        },
        "id": "dkYXmwH5S0Q-",
        "outputId": "537716ed-98fa-44fd-f826-bb437d7d2c1e"
      },
      "execution_count": null,
      "outputs": [
        {
          "output_type": "execute_result",
          "data": {
            "text/plain": [
              "count     7.00000\n",
              "mean     11.00000\n",
              "std       3.91578\n",
              "min       6.00000\n",
              "25%       8.50000\n",
              "50%      10.00000\n",
              "75%      13.50000\n",
              "max      17.00000\n",
              "dtype: float64"
            ]
          },
          "metadata": {},
          "execution_count": 68
        }
      ]
    },
    {
      "cell_type": "markdown",
      "source": [
        "# Usando un poco de MATPLOTLIB"
      ],
      "metadata": {
        "id": "zR8qEKL4UoPp"
      }
    },
    {
      "cell_type": "code",
      "source": [
        "\n",
        "import matplotlib.pyplot as plt\n",
        "\n",
        "# creando el gráfico\n",
        "\n",
        "plt.boxplot(serie_3)\n",
        "\n",
        "# mostrando el grafico con .show()\n",
        "plt.show()"
      ],
      "metadata": {
        "colab": {
          "base_uri": "https://localhost:8080/",
          "height": 430
        },
        "id": "xTuBJAx2TocW",
        "outputId": "fecff18f-ba96-413c-d443-95108df373e1"
      },
      "execution_count": null,
      "outputs": [
        {
          "output_type": "display_data",
          "data": {
            "text/plain": [
              "<Figure size 640x480 with 1 Axes>"
            ],
            "image/png": "[encoded data removed]"
          },
          "metadata": {}
        }
      ]
    },
    {
      "cell_type": "code",
      "source": [
        "#notas de un horario 1\n",
        "#nota de una horario:\n",
        "h1=[0,2,3,11,11,12,12,12,12,12,12,12,13,13,13,14,14,15,15,15,15,15,15,15,20]"
      ],
      "metadata": {
        "id": "Ah3iL4rJVl7R"
      },
      "execution_count": null,
      "outputs": []
    },
    {
      "cell_type": "code",
      "source": [
        "plt.boxplot(h1)\n",
        "\n",
        "# mostrando el grafico con .show()\n",
        "plt.show()"
      ],
      "metadata": {
        "colab": {
          "base_uri": "https://localhost:8080/",
          "height": 430
        },
        "id": "i0CqM5H8V5QQ",
        "outputId": "7e800adb-72d0-4289-e8e1-6f43c79b0121"
      },
      "execution_count": null,
      "outputs": [
        {
          "output_type": "display_data",
          "data": {
            "text/plain": [
              "<Figure size 640x480 with 1 Axes>"
            ],
            "image/png": "[encoded data removed]"
          },
          "metadata": {}
        }
      ]
    },
    {
      "cell_type": "code",
      "source": [
        "h1=[0,2,3,11,11,12,12,12,12,12,12,12,13,13,13,14,14,15,15,15,15,15,15,15,20]\n",
        "h2=[11,11,11,12,12,12,13,14,14,14,14,14,15,15,16,16,16,16,16,17,17,18,18,18,18]\n",
        "h3=[0,1,8,8,8,9,10,10,11,11,12,12,13,13,14,15,15,16,16,17,17,17]\n",
        "\n",
        "H=[h1,h2,h3]\n",
        "#añadiendo\n",
        "plt.boxplot(H)\n",
        "# mostrando el grafico con .show()\n",
        "plt.show()"
      ],
      "metadata": {
        "colab": {
          "base_uri": "https://localhost:8080/",
          "height": 430
        },
        "id": "U5WFu6H_WrtS",
        "outputId": "a54b9c79-cb15-4117-dc4b-25181e185bb2"
      },
      "execution_count": null,
      "outputs": [
        {
          "output_type": "display_data",
          "data": {
            "text/plain": [
              "<Figure size 640x480 with 1 Axes>"
            ],
            "image/png": "[encoded data removed]"
          },
          "metadata": {}
        }
      ]
    }
  ]
}